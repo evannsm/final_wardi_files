{
 "cells": [
  {
   "cell_type": "code",
   "execution_count": 1,
   "metadata": {},
   "outputs": [],
   "source": [
    "import numpy as np\n",
    "import matplotlib.pyplot as plt\n"
   ]
  },
  {
   "cell_type": "code",
   "execution_count": 2,
   "metadata": {},
   "outputs": [],
   "source": [
    "def interpolate_triangle(t):\n",
    "    # Calculate the time within the current cycle\n",
    "    cycle_time = t % (3 * T_seg)\n",
    "    \n",
    "    # Determine which segment we're in\n",
    "    segment = int(cycle_time // T_seg)\n",
    "    \n",
    "    # Time within the current segment\n",
    "    local_time = cycle_time % T_seg\n",
    "    \n",
    "    # Select the start and end points of the current segment\n",
    "    start_point = points[segment]\n",
    "    end_point = points[(segment + 1) % 3]\n",
    "    \n",
    "    # Linear interpolation for the current segment\n",
    "    x = start_point[0] + (end_point[0] - start_point[0]) * (local_time / T_seg)\n",
    "    y = start_point[1] + (end_point[1] - start_point[1]) * (local_time / T_seg)\n",
    "    \n",
    "    return x, y"
   ]
  },
  {
   "cell_type": "code",
   "execution_count": 3,
   "metadata": {},
   "outputs": [],
   "source": [
    "# Define the triangle points\n",
    "side_length = 0.6\n",
    "h = np.sqrt(side_length**2 - (side_length / 2)**2)\n",
    "first_point = (0, h / 2)\n",
    "points = [(0, h/2), (side_length/2, -h / 2), (-side_length/2, -h / 2)]\n",
    "N = 1  # Number of repetitions\n",
    "traj_time = 30  # Total time for the trajectory\n",
    "\n",
    "# Calculate the segment time\n",
    "T_seg = traj_time / (3 * N)"
   ]
  },
  {
   "cell_type": "code",
   "execution_count": 16,
   "metadata": {},
   "outputs": [],
   "source": [
    "x_np = x_vals * np.ones(20)"
   ]
  },
  {
   "cell_type": "code",
   "execution_count": 22,
   "metadata": {},
   "outputs": [
    {
     "data": {
      "text/plain": [
       "array([0.        , 0.00473684, 0.00947368, 0.01421053, 0.01894737,\n",
       "       0.02368421, 0.02842105, 0.03315789, 0.03789474, 0.04263158,\n",
       "       0.04736842, 0.05210526, 0.05684211, 0.06157895, 0.06631579,\n",
       "       0.07105263, 0.07578947, 0.08052632, 0.08526316, 0.09      ])"
      ]
     },
     "execution_count": 22,
     "metadata": {},
     "output_type": "execute_result"
    }
   ],
   "source": [
    "x_np"
   ]
  },
  {
   "cell_type": "code",
   "execution_count": 17,
   "metadata": {},
   "outputs": [],
   "source": [
    "x2 = x_np.reshape(-1)"
   ]
  },
  {
   "cell_type": "code",
   "execution_count": 18,
   "metadata": {},
   "outputs": [
    {
     "data": {
      "text/plain": [
       "(20,)"
      ]
     },
     "execution_count": 18,
     "metadata": {},
     "output_type": "execute_result"
    }
   ],
   "source": [
    "x2.shape"
   ]
  },
  {
   "cell_type": "code",
   "execution_count": 23,
   "metadata": {},
   "outputs": [],
   "source": [
    "x3 = np.array(x_vals)"
   ]
  },
  {
   "cell_type": "code",
   "execution_count": 25,
   "metadata": {},
   "outputs": [
    {
     "data": {
      "text/plain": [
       "(20,)"
      ]
     },
     "execution_count": 25,
     "metadata": {},
     "output_type": "execute_result"
    }
   ],
   "source": [
    "x3.shape"
   ]
  },
  {
   "cell_type": "code",
   "execution_count": 10,
   "metadata": {},
   "outputs": [
    {
     "data": {
      "image/png": "[encoded data removed]",
      "text/plain": [
       "<Figure size 640x480 with 1 Axes>"
      ]
     },
     "metadata": {},
     "output_type": "display_data"
    }
   ],
   "source": [
    "# Example usage:\n",
    "# Sampling the trajectory at different times\n",
    "times = np.linspace(0, 3, num=20)  # 100 sample points\n",
    "trajectory = [interpolate_triangle(t) for t in times]\n",
    "\n",
    "# Print or plot the trajectory\n",
    "import matplotlib.pyplot as plt\n",
    "\n",
    "x_vals, y_vals = zip(*trajectory)\n",
    "# noise_x = np.random.normal(0, 0.01, len(x_vals))\n",
    "# noise_y = np.random.normal(0, 0.01, len(x_vals))\n",
    "# x_vals+=noise_x\n",
    "# y_vals+=noise_y\n",
    "\n",
    "total = -1\n",
    "plt.scatter(x_vals[0:total], y_vals[0:total], marker='o')\n",
    "plt.xlabel('X')\n",
    "plt.ylabel('Y')\n",
    "plt.title('Triangular Trajectory')\n",
    "plt.axis('equal')\n",
    "plt.grid(True)\n",
    "plt.show()"
   ]
  },
  {
   "cell_type": "code",
   "execution_count": 36,
   "metadata": {},
   "outputs": [
    {
     "name": "stdout",
     "output_type": "stream",
     "text": [
      "not here\n"
     ]
    }
   ],
   "source": [
    "print(\"not here\")\n",
    "values = np.array([1,2,3,4, 5])\n",
    "# Repeat this array 20 times along the first axis\n",
    "repeated_array = np.tile(values, (20, 1))"
   ]
  },
  {
   "cell_type": "code",
   "execution_count": 37,
   "metadata": {},
   "outputs": [
    {
     "data": {
      "text/plain": [
       "array([[1, 2, 3, 4, 5],\n",
       "       [1, 2, 3, 4, 5],\n",
       "       [1, 2, 3, 4, 5],\n",
       "       [1, 2, 3, 4, 5],\n",
       "       [1, 2, 3, 4, 5],\n",
       "       [1, 2, 3, 4, 5],\n",
       "       [1, 2, 3, 4, 5],\n",
       "       [1, 2, 3, 4, 5],\n",
       "       [1, 2, 3, 4, 5],\n",
       "       [1, 2, 3, 4, 5],\n",
       "       [1, 2, 3, 4, 5],\n",
       "       [1, 2, 3, 4, 5],\n",
       "       [1, 2, 3, 4, 5],\n",
       "       [1, 2, 3, 4, 5],\n",
       "       [1, 2, 3, 4, 5],\n",
       "       [1, 2, 3, 4, 5],\n",
       "       [1, 2, 3, 4, 5],\n",
       "       [1, 2, 3, 4, 5],\n",
       "       [1, 2, 3, 4, 5],\n",
       "       [1, 2, 3, 4, 5]])"
      ]
     },
     "execution_count": 37,
     "metadata": {},
     "output_type": "execute_result"
    }
   ],
   "source": [
    "repeated_array"
   ]
  },
  {
   "cell_type": "code",
   "execution_count": 3,
   "metadata": {},
   "outputs": [],
   "source": [
    "# Generate a time array for the trajectory\n",
    "import math as m \n",
    "import numpy as np\n",
    "t_start = 10 -5\n",
    "horizon =3 \n",
    "num_steps = 20\n",
    "t = np.linspace(t_start, t_start + horizon, num_steps)\n",
    "\n",
    "SPIN_PERIOD = 15\n",
    "yaw_ref = (t) / (SPIN_PERIOD / (2*m.pi))\n",
    "\n",
    "# All other components remain constant\n",
    "x = np.zeros(num_steps).reshape(-1)\n",
    "y = np.zeros(num_steps).reshape(-1)\n",
    "z = -0.5 * np.ones(num_steps).reshape(-1)\n",
    "vx = np.zeros(num_steps).reshape(-1)\n",
    "vy = np.zeros(num_steps).reshape(-1)\n",
    "vz = np.zeros(num_steps).reshape(-1)\n",
    "roll = np.zeros(num_steps).reshape(-1)\n",
    "pitch = np.zeros(num_steps).reshape(-1)\n",
    "yaw = yaw_ref.reshape(-1)\n",
    "\n",
    "# Construct the reference trajectory array\n",
    "r = np.array([x, y, z, vx, vy, vz, roll, pitch, yaw])"
   ]
  },
  {
   "cell_type": "code",
   "execution_count": 5,
   "metadata": {},
   "outputs": [
    {
     "data": {
      "text/plain": [
       "array([0., 0., 0., 0., 0., 0., 0., 0., 0., 0., 0., 0., 0., 0., 0., 0., 0.,\n",
       "       0., 0., 0.])"
      ]
     },
     "execution_count": 5,
     "metadata": {},
     "output_type": "execute_result"
    }
   ],
   "source": [
    "r[0]"
   ]
  },
  {
   "cell_type": "code",
   "execution_count": null,
   "metadata": {},
   "outputs": [],
   "source": []
  }
 ],
 "metadata": {
  "kernelspec": {
   "display_name": "wardiNN",
   "language": "python",
   "name": "python3"
  },
  "language_info": {
   "codemirror_mode": {
    "name": "ipython",
    "version": 3
   },
   "file_extension": ".py",
   "mimetype": "text/x-python",
   "name": "python",
   "nbconvert_exporter": "python",
   "pygments_lexer": "ipython3",
   "version": "3.8.10"
  }
 },
 "nbformat": 4,
 "nbformat_minor": 2
}
