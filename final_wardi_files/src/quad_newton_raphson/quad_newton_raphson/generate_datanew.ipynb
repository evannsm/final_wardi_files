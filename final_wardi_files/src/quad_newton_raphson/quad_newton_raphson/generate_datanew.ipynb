{
 "cells": [
  {
   "cell_type": "code",
   "execution_count": 9,
   "metadata": {},
   "outputs": [],
   "source": [
    "import jax\n",
    "import jax.numpy as jnp\n",
    "from jax import jit, jacfwd, lax\n",
    "import numpy as np\n",
    "from jax import random"
   ]
  },
  {
   "cell_type": "code",
   "execution_count": 10,
   "metadata": {},
   "outputs": [],
   "source": [
    "C = np.array([[1, 0, 0, 0, 0, 0, 0, 0, 0],\n",
    "        [0, 1, 0, 0, 0, 0, 0, 0, 0],\n",
    "        [0, 0, 1, 0, 0, 0, 0, 0, 0],\n",
    "        [0, 0, 0, 0, 0, 0, 0, 0, 1]])"
   ]
  },
  {
   "cell_type": "code",
   "execution_count": 11,
   "metadata": {},
   "outputs": [],
   "source": [
    "key1, key2 = random.split(random.PRNGKey(0))"
   ]
  },
  {
   "cell_type": "code",
   "execution_count": 12,
   "metadata": {},
   "outputs": [],
   "source": [
    "@jit\n",
    "def dynamics(state, inputs, g, m):\n",
    "    x, y, z, vx, vy, vz, roll, pitch, yaw = state\n",
    "    curr_thrust, curr_rolldot, curr_pitchdot, curr_yawdot = inputs\n",
    "\n",
    "    sr = jnp.sin(roll)\n",
    "    sy = jnp.sin(yaw)\n",
    "    sp = jnp.sin(pitch)\n",
    "    cr = jnp.cos(roll)\n",
    "    cp = jnp.cos(pitch)\n",
    "    cy = jnp.cos(yaw)\n",
    "\n",
    "    vxdot = -(curr_thrust / m) * (sr * sy + cr * cy * sp)\n",
    "    vydot = -(curr_thrust / m) * (cr * sy * sp - cy * sr)\n",
    "    vzdot = g - (curr_thrust / m) * (cr * cp)\n",
    "\n",
    "    return jnp.array([vx, vy, vz, vxdot, vydot, vzdot, curr_rolldot, curr_pitchdot, curr_yawdot])\n",
    "\n",
    "# Function to integrate dynamics over time\n",
    "@jit\n",
    "def integrate_dynamics(state, inputs, integration_step, integrations_int, g, m):\n",
    "    def for_function(i, current_state):\n",
    "        return current_state + dynamics(current_state, inputs, g, m) * integration_step\n",
    "\n",
    "    pred_state = lax.fori_loop(0, integrations_int, for_function, state)\n",
    "    return pred_state\n",
    "\n",
    "# Prediction function\n",
    "@jit\n",
    "def predict_states(state, last_input, T_lookahead, g, m, integration_step=0.1):\n",
    "    inputs = last_input.flatten()\n",
    "    integrations_int = 8 #int(T_lookahead / integration_step)\n",
    "    pred_state = integrate_dynamics(state, inputs, integration_step, integrations_int, g, m)\n",
    "    return pred_state\n",
    "\n",
    "# Prediction function\n",
    "@jit\n",
    "def predict_outputs(state, last_input, T_lookahead, g, m, C, integration_step=0.1):\n",
    "    inputs = last_input.flatten()\n",
    "    integrations_int = 8 #int(T_lookahead / integration_step)\n",
    "    pred_state = integrate_dynamics(state, inputs, integration_step, integrations_int, g, m)\n",
    "    return C@pred_state"
   ]
  },
  {
   "cell_type": "code",
   "execution_count": 15,
   "metadata": {},
   "outputs": [],
   "source": [
    "def get_outputs(num_data_gen=100):\n",
    "  allData = np.empty((0, 17))\n",
    "  # print(allData)\n",
    "  for i in range(num_data_gen):\n",
    "    curr_thrust = random.uniform(key1, minval=0.0, maxval=27)\n",
    "    curr_rolldot, curr_pitchdot, curr_yawdot = random.uniform(key1, minval=-.9, maxval=.9), random.uniform(key1, minval=-.9, maxval=.9), random.uniform(key1, minval=-.9, maxval=.9)\n",
    "\n",
    "    xx = 2.0\n",
    "    curr_x, curr_y, curr_z = random.uniform(key1, minval=-xx, maxval=xx), random.uniform(key1, minval=-xx, maxval=xx), random.uniform(key1, minval=-xx, maxval=xx)\n",
    "\n",
    "    vv = 1.0\n",
    "    curr_vx, curr_vy, curr_vz = random.uniform(key1, minval=-vv, maxval=vv), random.uniform(key1, minval=-vv, maxval=vv), random.uniform(key1, minval=-vv, maxval=vv)\n",
    "\n",
    "    ll = jnp.pi\n",
    "    curr_roll, curr_pitch, curr_yaw = random.uniform(key1, minval=-ll, maxval=ll), random.uniform(key1, minval=-ll, maxval=ll), random.uniform(key1, minval=-ll, maxval=ll)\n",
    "\n",
    "    STATE = jnp.array([curr_x, curr_y, curr_z, curr_vx, curr_vy, curr_vz, curr_roll, curr_pitch, curr_yaw])\n",
    "    INPUT = jnp.array([curr_thrust, curr_rolldot, curr_pitchdot, curr_yawdot])\n",
    "\n",
    "    outputs = predict_outputs(STATE, INPUT, T_lookahead, g, m, C, integration_step)\n",
    "\n",
    "\n",
    "    outputs2 = outputs.squeeze()\n",
    "    # print(f\"{outputs2.shape}\")\n",
    "    # print(f\"{STATE.shape}\")\n",
    "    # print(f\"{INPUT.shape}\")\n",
    "    # print(f\"\\n\")\n",
    "    finalData = jnp.hstack((STATE, INPUT, outputs2))\n",
    "    allData = np.vstack((allData, finalData))\n",
    "  return allData"
   ]
  },
  {
   "cell_type": "code",
   "execution_count": 16,
   "metadata": {},
   "outputs": [],
   "source": [
    "T_lookahead = 0.8\n",
    "g = 9.806\n",
    "m = 1.53\n",
    "integration_step = 0.1\n",
    "data = get_outputs(500)"
   ]
  },
  {
   "cell_type": "code",
   "execution_count": 17,
   "metadata": {},
   "outputs": [],
   "source": [
    "sim = True"
   ]
  },
  {
   "cell_type": "code",
   "execution_count": 18,
   "metadata": {},
   "outputs": [
    {
     "name": "stdout",
     "output_type": "stream",
     "text": [
      "Saved under: 50k_iris_sim_expanded_more5 because sim is True\n"
     ]
    }
   ],
   "source": [
    "np.save('50k_iris_sim_expanded_more5' if sim else '50k_holybro_expanded_more4', data)\n",
    "print(f\"Saved under: {'50k_iris_sim_expanded_more5' if sim else '50k_holybro_expanded_more4'} because sim is {sim}\")"
   ]
  },
  {
   "cell_type": "code",
   "execution_count": null,
   "metadata": {},
   "outputs": [],
   "source": []
  }
 ],
 "metadata": {
  "kernelspec": {
   "display_name": "wardiNN",
   "language": "python",
   "name": "python3"
  },
  "language_info": {
   "codemirror_mode": {
    "name": "ipython",
    "version": 3
   },
   "file_extension": ".py",
   "mimetype": "text/x-python",
   "name": "python",
   "nbconvert_exporter": "python",
   "pygments_lexer": "ipython3",
   "version": "3.8.10"
  }
 },
 "nbformat": 4,
 "nbformat_minor": 2
}
