{
 "cells": [
  {
   "cell_type": "code",
   "execution_count": 1,
   "metadata": {},
   "outputs": [],
   "source": [
    "from tf_transformations import euler_from_quaternion\n",
    "import numpy as np\n",
    "import math as m\n"
   ]
  },
  {
   "cell_type": "code",
   "execution_count": 2,
   "metadata": {},
   "outputs": [],
   "source": [
    "def angle_wrapper(angle):\n",
    "    angle += m.pi\n",
    "    angle = angle % (2 * m.pi)  # Ensure the angle is between 0 and 2π\n",
    "    if angle > m.pi:            # If angle is in (π, 2π], subtract 2π to get it in (-π, 0]\n",
    "        angle -= 2 * m.pi\n",
    "    if angle < -m.pi:           # If angle is in (-2π, -π), add 2π to get it in (0, π]\n",
    "        angle += 2 * m.pi\n",
    "    return -angle"
   ]
  },
  {
   "cell_type": "markdown",
   "metadata": {},
   "source": [
    "# test on data from simulation: "
   ]
  },
  {
   "cell_type": "code",
   "execution_count": 3,
   "metadata": {},
   "outputs": [],
   "source": [
    "#this is from quad tilting forward AKA front goes down in order to go in +X direction strictly\n",
    "quat1 = [0.9518511295318604, -0.004212579224258661, -0.3064756989479065, -0.005864466540515423] \n",
    "# yields: (roll, pitch, yaw) = (-0.005448548314084914, -0.6230168375148765, -0.01056768867977631)\n",
    "\n",
    "# this is from quad tilting CW when viewed from the back so we're facing the same direction it faces in order to go in +Y direction strictly\n",
    "quat2 = [0.9685525298118591, 0.24774451553821564, -0.022614458575844765, -0.004153035115450621]\n",
    "# yields: (roll, pitch, yaw) = (0.5012406346841017, -0.04176093567396901, -0.019268071582676516)\n",
    "\n"
   ]
  },
  {
   "cell_type": "code",
   "execution_count": 4,
   "metadata": {},
   "outputs": [],
   "source": [
    "# This does the math for us\n",
    "(yaw, pitch, roll) = euler_from_quaternion(quat1)\n",
    "# print(f\"old_yaw: {yaw}\")\n",
    "yaw = angle_wrapper(yaw)\n",
    "pitch = -1 * pitch #pitch is negative of the value in gazebo bc of frame difference\n"
   ]
  },
  {
   "cell_type": "code",
   "execution_count": 5,
   "metadata": {},
   "outputs": [
    {
     "name": "stdout",
     "output_type": "stream",
     "text": [
      "euler = (-0.005448548314084914, -0.6230168375148765, -0.01056768867977631)\n"
     ]
    }
   ],
   "source": [
    "# Now we print the results!!!\n",
    "euler = (roll,pitch,yaw)\n",
    "print(f\"{euler = }\")"
   ]
  },
  {
   "cell_type": "code",
   "execution_count": null,
   "metadata": {},
   "outputs": [],
   "source": []
  },
  {
   "cell_type": "markdown",
   "metadata": {},
   "source": [
    "# now test on data from real hardware:"
   ]
  },
  {
   "cell_type": "code",
   "execution_count": 8,
   "metadata": {},
   "outputs": [],
   "source": [
    "quat3 = [0.811410665512085, 0.03293580561876297, -0.5831595063209534, -0.021282173693180084] #nose down to go in +X direction -> neg pitch\n",
    "quat4 = [0.8066815733909607, 0.5895424485206604, 0.03083949349820614, -0.02745102159678936] #tilt on its right side to go in +Y direction -> positive roll\n",
    "\n",
    "\n",
    "\n",
    "- 0.8054794669151306\n",
    "- 0.5909928679466248\n",
    "- 0.03698957338929176\n",
    "- -0.023707052692770958\n",
    "\n",
    "\n",
    "quat_test = [0.8074243068695068, 0.5878979563713074, 0.045461736619472504, 0.019369952380657196]\n"
   ]
  },
  {
   "cell_type": "code",
   "execution_count": 9,
   "metadata": {},
   "outputs": [],
   "source": [
    "# This does the math for us\n",
    "(yaw, pitch, roll) = euler_from_quaternion(quat_test)\n",
    "# print(f\"old_yaw: {yaw}\")\n",
    "yaw = angle_wrapper(yaw)\n",
    "pitch = -1 * pitch #pitch is negative of the value in gazebo bc of frame difference"
   ]
  },
  {
   "cell_type": "code",
   "execution_count": 10,
   "metadata": {},
   "outputs": [
    {
     "name": "stdout",
     "output_type": "stream",
     "text": [
      "euler = (1.2608476585771358, 0.05066037935822883, 0.08494423154333575)\n"
     ]
    }
   ],
   "source": [
    "# Now we print the results!!!\n",
    "euler = (roll,pitch,yaw)\n",
    "print(f\"{euler = }\")"
   ]
  },
  {
   "cell_type": "code",
   "execution_count": 20,
   "metadata": {},
   "outputs": [
    {
     "name": "stdout",
     "output_type": "stream",
     "text": [
      "euler = (0.24157058079201263, -1.2374778822217323, -0.2248581041956652)\n"
     ]
    }
   ],
   "source": [
    "# Now we print the results!!!\n",
    "euler = (roll,pitch,yaw)\n",
    "print(f\"{euler = }\")"
   ]
  },
  {
   "cell_type": "code",
   "execution_count": null,
   "metadata": {},
   "outputs": [],
   "source": []
  },
  {
   "cell_type": "code",
   "execution_count": null,
   "metadata": {},
   "outputs": [],
   "source": []
  }
 ],
 "metadata": {
  "kernelspec": {
   "display_name": "wardiNN",
   "language": "python",
   "name": "python3"
  },
  "language_info": {
   "codemirror_mode": {
    "name": "ipython",
    "version": 3
   },
   "file_extension": ".py",
   "mimetype": "text/x-python",
   "name": "python",
   "nbconvert_exporter": "python",
   "pygments_lexer": "ipython3",
   "version": "3.8.19"
  }
 },
 "nbformat": 4,
 "nbformat_minor": 2
}
