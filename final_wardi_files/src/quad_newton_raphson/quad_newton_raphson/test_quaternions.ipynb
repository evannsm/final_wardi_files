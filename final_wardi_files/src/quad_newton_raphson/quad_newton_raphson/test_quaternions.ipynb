{
 "cells": [
  {
   "cell_type": "code",
   "execution_count": 2,
   "metadata": {},
   "outputs": [],
   "source": [
    "from transforms3d.euler import quat2euler\n",
    "import math as m"
   ]
  },
  {
   "cell_type": "code",
   "execution_count": 3,
   "metadata": {},
   "outputs": [],
   "source": [
    "def normalize_angle(angle):\n",
    "    \"\"\" Normalize the angle to the range [-pi, pi]. \"\"\"\n",
    "    return m.atan2(m.sin(angle), m.cos(angle))"
   ]
  },
  {
   "cell_type": "markdown",
   "metadata": {},
   "source": [
    "# test on data"
   ]
  },
  {
   "cell_type": "markdown",
   "metadata": {},
   "source": [
    "### Negative Pitch Tilt Forward"
   ]
  },
  {
   "cell_type": "code",
   "execution_count": 4,
   "metadata": {},
   "outputs": [
    {
     "name": "stdout",
     "output_type": "stream",
     "text": [
      "(roll,pitch,yaw)=(-0.005448548314084914, -0.6230168375148765, -0.010567688679776425)\n"
     ]
    }
   ],
   "source": [
    "sim_negpitch_goforward = [0.9518511295318604, -0.004212579224258661, -0.3064756989479065, -0.005864466540515423]\n",
    "roll, pitch, yaw = quat2euler(sim_negpitch_goforward) #(-0.005448548314084914, -0.6230168375148765, -0.01056768867977631) AKA neg pitch when tilting forward to go front to +X\n",
    "print(f\"(roll,pitch,yaw)={roll,pitch,yaw}\")"
   ]
  },
  {
   "cell_type": "code",
   "execution_count": 5,
   "metadata": {},
   "outputs": [
    {
     "name": "stdout",
     "output_type": "stream",
     "text": [
      "(roll,pitch,yaw)=(-0.0824016804329776, -1.2488296737922981, 0.20575859351363496)\n"
     ]
    }
   ],
   "source": [
    "hardware_negpitch_goforward = [0.8088037967681885, 0.026748254895210266, -0.5844698548316956, 0.05929585173726082]\n",
    "roll, pitch, yaw = quat2euler(hardware_negpitch_goforward) #(-0.005448548314084914, -0.6230168375148765, -0.01056768867977631) AKA neg pitch when tilting forward to go front to +X\n",
    "print(f\"(roll,pitch,yaw)={roll,pitch,yaw}\")"
   ]
  },
  {
   "cell_type": "markdown",
   "metadata": {},
   "source": [
    "### Positive Roll Tilt CW to +Y"
   ]
  },
  {
   "cell_type": "code",
   "execution_count": 6,
   "metadata": {},
   "outputs": [
    {
     "name": "stdout",
     "output_type": "stream",
     "text": [
      "(roll,pitch,yaw)=(0.5012406346841017, -0.04176093567396901, -0.019268071582676478)\n"
     ]
    }
   ],
   "source": [
    "sim_posroll_goright = [0.9685525298118591, 0.24774451553821564, -0.022614458575844765, -0.004153035115450621] #(0.5012406346841017, -0.04176093567396901, -0.019268071582676516) AKA pos roll when tilting CW from the back to go right to +Y\n",
    "roll, pitch, yaw = quat2euler(sim_posroll_goright) #(-0.005448548314084914, -0.6230168375148765, -0.01056768867977631) AKA neg pitch when tilting forward to go front to +X\n",
    "print(f\"(roll,pitch,yaw)={roll,pitch,yaw}\")"
   ]
  },
  {
   "cell_type": "code",
   "execution_count": 7,
   "metadata": {},
   "outputs": [
    {
     "name": "stdout",
     "output_type": "stream",
     "text": [
      "(roll,pitch,yaw)=(1.2647838377388503, -0.010353311601660782, -0.013600569530322343)\n"
     ]
    }
   ],
   "source": [
    "hardware_posroll_goright = [0.8066073656082153, 0.5910258293151855, -0.008194857276976109, -0.0024253912270069122]\n",
    "roll, pitch, yaw = quat2euler(hardware_posroll_goright) #(-0.005448548314084914, -0.6230168375148765, -0.01056768867977631) AKA neg pitch when tilting forward to go front to +X\n",
    "print(f\"(roll,pitch,yaw)={roll,pitch,yaw}\")"
   ]
  },
  {
   "cell_type": "markdown",
   "metadata": {},
   "source": [
    "### Negative Yaw Rotate CCW About Z\n",
    "REMEMBER: POSITIVE Z IS POINTING DOWN SO FROM THE TOP IT LOOKS CW BUT ITS ACTUALLY CCW"
   ]
  },
  {
   "cell_type": "code",
   "execution_count": 8,
   "metadata": {},
   "outputs": [
    {
     "name": "stdout",
     "output_type": "stream",
     "text": [
      "(roll,pitch,yaw)=(0.013906685494729855, 0.0026444664358176084, 1.5431945698611313)\n"
     ]
    }
   ],
   "source": [
    "hardware_posyaw_goCCW = [0.7167863249778748, 0.0040621510706841946, 0.0057961419224739075, 0.6972570419311523]\n",
    "roll, pitch, yaw = quat2euler(hardware_posyaw_goCCW) #(-0.005448548314084914, -0.6230168375148765, -0.01056768867977631) AKA neg pitch when tilting forward to go front to +X\n",
    "print(f\"(roll,pitch,yaw)={roll,pitch,yaw}\")"
   ]
  },
  {
   "cell_type": "markdown",
   "metadata": {},
   "source": [
    "## New Data for Confirmation"
   ]
  },
  {
   "cell_type": "code",
   "execution_count": 9,
   "metadata": {},
   "outputs": [
    {
     "name": "stdout",
     "output_type": "stream",
     "text": [
      "(roll,pitch,yaw)=(1.2702682947479076, -0.01450125261433671, -0.10453808718658118)\n"
     ]
    }
   ],
   "source": [
    "q = [0.8040963411331177, 0.5921547412872314, -0.03682420775294304, -0.03776012733578682]\n",
    "\n",
    "roll, pitch, yaw = quat2euler(q)\n",
    "print(f\"(roll,pitch,yaw)={roll,pitch,yaw}\")\n"
   ]
  }
 ],
 "metadata": {
  "kernelspec": {
   "display_name": "wardiNN",
   "language": "python",
   "name": "python3"
  },
  "language_info": {
   "codemirror_mode": {
    "name": "ipython",
    "version": 3
   },
   "file_extension": ".py",
   "mimetype": "text/x-python",
   "name": "python",
   "nbconvert_exporter": "python",
   "pygments_lexer": "ipython3",
   "version": "3.8.19"
  }
 },
 "nbformat": 4,
 "nbformat_minor": 2
}
