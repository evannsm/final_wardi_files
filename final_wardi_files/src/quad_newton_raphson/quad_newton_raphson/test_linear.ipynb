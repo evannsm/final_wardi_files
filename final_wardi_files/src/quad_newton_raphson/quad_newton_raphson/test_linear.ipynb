{
 "cells": [
  {
   "cell_type": "code",
   "execution_count": 1,
   "metadata": {},
   "outputs": [],
   "source": [
    "import numpy as np"
   ]
  },
  {
   "cell_type": "code",
   "execution_count": 16,
   "metadata": {},
   "outputs": [],
   "source": [
    "GRAVITY = 9.81\n",
    "MASS = 1.5\n",
    "GRAVITY = 9.806\n",
    "T_LOOKAHEAD = 0.8"
   ]
  },
  {
   "cell_type": "code",
   "execution_count": 26,
   "metadata": {},
   "outputs": [
    {
     "data": {
      "text/plain": [
       "array([[ 0.   ,  0.   ,  0.   ,  1.   ,  0.   ,  0.   ,  0.   ,  0.   ,\n",
       "         0.   ],\n",
       "       [ 0.   ,  0.   ,  0.   ,  0.   ,  1.   ,  0.   ,  0.   ,  0.   ,\n",
       "         0.   ],\n",
       "       [ 0.   ,  0.   ,  0.   ,  0.   ,  0.   ,  1.   ,  0.   ,  0.   ,\n",
       "         0.   ],\n",
       "       [ 0.   ,  0.   ,  0.   ,  0.   ,  0.   ,  0.   ,  0.   , -9.806,\n",
       "         0.   ],\n",
       "       [ 0.   ,  0.   ,  0.   ,  0.   ,  0.   ,  0.   ,  9.806,  0.   ,\n",
       "         0.   ],\n",
       "       [ 0.   ,  0.   ,  0.   ,  0.   ,  0.   ,  0.   ,  0.   ,  0.   ,\n",
       "         0.   ],\n",
       "       [ 0.   ,  0.   ,  0.   ,  0.   ,  0.   ,  0.   ,  0.   ,  0.   ,\n",
       "         0.   ],\n",
       "       [ 0.   ,  0.   ,  0.   ,  0.   ,  0.   ,  0.   ,  0.   ,  0.   ,\n",
       "         0.   ],\n",
       "       [ 0.   ,  0.   ,  0.   ,  0.   ,  0.   ,  0.   ,  0.   ,  0.   ,\n",
       "         0.   ]])"
      ]
     },
     "execution_count": 26,
     "metadata": {},
     "output_type": "execute_result"
    }
   ],
   "source": [
    "A = np.array([\n",
    "                [0, 0, 0,    1, 0, 0,     0,   0, 0],\n",
    "                [0, 0, 0,    0, 1, 0,     0,   0, 0],\n",
    "                [0, 0, 0,    0, 0, 1,     0,   0, 0],\n",
    "\n",
    "                [0, 0, 0,    0, 0, 0,     0,-1*GRAVITY, 0],\n",
    "                [0, 0, 0,    0, 0, 0,     GRAVITY,   0, 0],\n",
    "                [0, 0, 0,    0, 0, 0,     0,   0, 0],\n",
    "\n",
    "                [0, 0, 0,    0, 0, 0,     0,   0, 0],\n",
    "                [0, 0, 0,    0, 0, 0,     0,   0, 0],\n",
    "                [0, 0, 0,    0, 0, 0,     0,   0, 0],\n",
    "\n",
    "            ])\n",
    "A"
   ]
  },
  {
   "cell_type": "code",
   "execution_count": 27,
   "metadata": {},
   "outputs": [
    {
     "data": {
      "text/plain": [
       "array([[ 0.        ,  0.        ,  0.        ,  0.        ],\n",
       "       [ 0.        ,  0.        ,  0.        ,  0.        ],\n",
       "       [ 0.        ,  0.        ,  0.        ,  0.        ],\n",
       "       [ 0.        ,  0.        ,  0.        ,  0.        ],\n",
       "       [ 0.        ,  0.        ,  0.        ,  0.        ],\n",
       "       [-0.66666667,  0.        ,  0.        ,  0.        ],\n",
       "       [ 0.        ,  1.        ,  0.        ,  0.        ],\n",
       "       [ 0.        ,  0.        ,  1.        ,  0.        ],\n",
       "       [ 0.        ,  0.        ,  0.        ,  1.        ]])"
      ]
     },
     "execution_count": 27,
     "metadata": {},
     "output_type": "execute_result"
    }
   ],
   "source": [
    "B = np.array([\n",
    "                [0, 0, 0, 0],\n",
    "                [0, 0, 0, 0],\n",
    "                [0, 0, 0, 0],\n",
    "                [0, 0, 0, 0],\n",
    "                [0, 0, 0, 0],\n",
    "\n",
    "                [-1/MASS, 0, 0, 0],\n",
    "                [0, 1, 0, 0],\n",
    "                [0, 0, 1, 0],\n",
    "                [0, 0, 0, 1],\n",
    "            ])\n",
    "B"
   ]
  },
  {
   "cell_type": "code",
   "execution_count": 28,
   "metadata": {},
   "outputs": [],
   "source": [
    "C = np.array([[1, 0, 0, 0, 0, 0, 0, 0, 0],\n",
    "               [0, 1, 0, 0, 0, 0, 0, 0, 0],\n",
    "               [0, 0, 1, 0, 0, 0, 0, 0, 0],\n",
    "               [0, 0, 0, 0, 0, 0, 0, 0, 1]])"
   ]
  },
  {
   "cell_type": "code",
   "execution_count": 29,
   "metadata": {},
   "outputs": [],
   "source": [
    "x = np.array([[0., 0., -.5, 0., 0., 0., 0., 0., 0.]]).T\n",
    "u = np.array([[16., 0., 0., 0.]]).T"
   ]
  },
  {
   "cell_type": "code",
   "execution_count": 32,
   "metadata": {},
   "outputs": [],
   "source": [
    "eAT = np.exp2(A*T_LOOKAHEAD)"
   ]
  },
  {
   "cell_type": "code",
   "execution_count": 38,
   "metadata": {},
   "outputs": [],
   "source": [
    "import sympy as smp\n",
    "import math as m\n",
    "\n",
    "import scipy.integrate as sp_int\n",
    "import scipy.linalg as sp_linalg"
   ]
  },
  {
   "cell_type": "code",
   "execution_count": 79,
   "metadata": {},
   "outputs": [],
   "source": [
    "def getyorai_gJac_linear_predict(int_eATB): #Calculates Jacobian of Linearized System Output Prediction for Newton-Raphson Input Calc : udot = a*inv(dg/du)(err)\n",
    "    \"\"\" Calculates the Jacobian of the closed form linearized system output prediction wrt inputs at the operating point of hover above origin with euler angles 0. \"\"\"\n",
    "    Jac = np.concatenate((int_eATB[0:3, :], int_eATB[-1:, :]), axis=0) # dg/du = C * int_eATB\n",
    "    print(f\"{Jac =}\")\n",
    "    return Jac\n",
    "\n",
    "def observer_matrix(): #Calculates Observer Matrix for Prediction of desired outputs from all 9 states\n",
    "    \"\"\" Calculates the observer matrix for prediction of desired outputs from all 9 states. \"\"\"\n",
    "    C = np.array([[1, 0, 0, 0, 0, 0, 0, 0, 0],\n",
    "            [0, 1, 0, 0, 0, 0, 0, 0, 0],\n",
    "            [0, 0, 1, 0, 0, 0, 0, 0, 0],\n",
    "            [0, 0, 0, 0, 0, 0, 0, 0, 1]])\n",
    "    return C\n",
    "\n",
    "def linearized_model(): #Calculates Linearized Model Matrices for Prediction (eAT, int_eATB, int_eAT, C)\n",
    "    \"\"\" Calculates the linearized model matrices for prediction. \"\"\"\n",
    "\n",
    "    # x(t) = eAT*x(t0) + int_eATB*u(t) with u(t) = u over T = T_lookahead seconds\n",
    "    # simplifies to x(t) = eAT*x(t) + int_eATB*(u - gravity) in our implementation as seen in getyorai_g_linear_predict\n",
    "    # y(t) = C*x(t)\n",
    "\n",
    "    A = smp.Matrix(\n",
    "        [\n",
    "            [0, 0, 0,    1, 0, 0,     0,   0, 0],\n",
    "            [0, 0, 0,    0, 1, 0,     0,   0, 0],\n",
    "            [0, 0, 0,    0, 0, 1,     0,   0, 0],\n",
    "\n",
    "            [0, 0, 0,    0, 0, 0,     0,-1*GRAVITY, 0],\n",
    "            [0, 0, 0,    0, 0, 0,     GRAVITY,   0, 0],\n",
    "            [0, 0, 0,    0, 0, 0,     0,   0, 0],\n",
    "\n",
    "            [0, 0, 0,    0, 0, 0,     0,   0, 0],\n",
    "            [0, 0, 0,    0, 0, 0,     0,   0, 0],\n",
    "            [0, 0, 0,    0, 0, 0,     0,   0, 0],\n",
    "\n",
    "        ]\n",
    "        )\n",
    "    \n",
    "    eAT = smp.exp(A*T_LOOKAHEAD)\n",
    "\n",
    "    B = smp.Matrix(\n",
    "        [\n",
    "            [0, 0, 0, 0],\n",
    "            [0, 0, 0, 0],\n",
    "            [0, 0, 0, 0],\n",
    "            [0, 0, 0, 0],\n",
    "            [0, 0, 0, 0],\n",
    "\n",
    "            [1/MASS, 0, 0, 0],\n",
    "            [0, 1, 0, 0],\n",
    "            [0, 0, 1, 0],\n",
    "            [0, 0, 0, 1],\n",
    "        ]\n",
    "        )\n",
    "\n",
    "    A = np.array(A).astype(np.float64)\n",
    "    int_eAT = np.zeros_like(A)\n",
    "    rowcol = int_eAT.shape[0]\n",
    "    for row in range(rowcol):\n",
    "        for column in range(rowcol):\n",
    "            f = lambda x: sp_linalg.expm(A*(T_LOOKAHEAD-x))[row,column]\n",
    "            int_eAT[row,column] = sp_int.quad(f, 0, T_LOOKAHEAD)[0]\n",
    "\n",
    "\n",
    "    int_eATB = int_eAT @ B\n",
    "    eAT = np.array(eAT).astype(np.float64)\n",
    "    int_eATB = np.array(int_eATB).astype(np.float64)\n",
    "\n",
    "    # print(f\"A: \\n {A}\")\n",
    "    # print(f\"eAT: \\n {eAT}\")\n",
    "    # print(f\"int_eAT: \\n {int_eAT}\")\n",
    "\n",
    "    # print(f\"B: \\n {B}\")\n",
    "    # print(f\"int_eATB: \\n {int_eATB}\")\n",
    "    # print(f\"C: \\n {C}\")\n",
    "\n",
    "    # jac_inv = np.linalg.inv(getyorai_gJac_linear_predict()) #Calculate Inverse Jacobian of Linearized Model Matrices\n",
    "    jac_inv = C @ int_eATB\n",
    "    return eAT, int_eATB, int_eAT, jac_inv"
   ]
  },
  {
   "cell_type": "code",
   "execution_count": 80,
   "metadata": {},
   "outputs": [],
   "source": [
    "C = observer_matrix()\n",
    "eAT, int_eATB, int_eAT, jac_inv = linearized_model()"
   ]
  },
  {
   "cell_type": "code",
   "execution_count": 81,
   "metadata": {},
   "outputs": [
    {
     "name": "stdout",
     "output_type": "stream",
     "text": [
      "gravity = array([[14.709],\n",
      "       [ 0.   ],\n",
      "       [ 0.   ],\n",
      "       [ 0.   ]])\n",
      "input = array([[-16.],\n",
      "       [  0.],\n",
      "       [  0.],\n",
      "       [  0.]])\n",
      "x = array([[ 0. ],\n",
      "       [ 0. ],\n",
      "       [-0.5],\n",
      "       [ 0. ],\n",
      "       [ 0. ],\n",
      "       [ 0. ],\n",
      "       [ 0. ],\n",
      "       [ 0. ],\n",
      "       [ 0. ]])\n"
     ]
    },
    {
     "data": {
      "text/plain": [
       "array([[ 0.        ],\n",
       "       [ 0.        ],\n",
       "       [-0.77541333],\n",
       "       [ 0.        ]])"
      ]
     },
     "execution_count": 81,
     "metadata": {},
     "output_type": "execute_result"
    }
   ],
   "source": [
    "gravity = np.array([[MASS * GRAVITY, 0, 0, 0]]).T #gravity vector that counteracts input vector: [-mg, 0, 0, 0]\n",
    "print(f\"{gravity = }\")\n",
    "input = np.array([[-16., 0., 0., 0.]]).T #input vector: [F, Mx, My, Mz]\n",
    "print(f\"{input = }\")\n",
    "print(f\"{x = }\")\n",
    "# unforced = self.eAT @ self.state_vector\n",
    "# print(f\"{unforced = }\")\n",
    "# forced = self.int_eATB @ (curr_input + gravity)\n",
    "# print(f\"{forced = }\")\n",
    "lin_pred = eAT@x + int_eATB @ (input + gravity) # xdot = eAT*x(t) + int_eATB*(u-gravity)\n",
    "yorai_g = C @ lin_pred # y(t) = C*x(t) = [x,y,z,yaw]\n",
    "yorai_g\n"
   ]
  },
  {
   "cell_type": "code",
   "execution_count": 82,
   "metadata": {},
   "outputs": [
    {
     "data": {
      "text/plain": [
       "array([[ 0.        ,  0.        , -0.83677867,  0.        ],\n",
       "       [ 0.        ,  0.83677867,  0.        ,  0.        ],\n",
       "       [ 0.21333333,  0.        ,  0.        ,  0.        ],\n",
       "       [ 0.        ,  0.        ,  0.        ,  0.8       ]])"
      ]
     },
     "execution_count": 82,
     "metadata": {},
     "output_type": "execute_result"
    }
   ],
   "source": [
    "jac_inv"
   ]
  },
  {
   "cell_type": "code",
   "execution_count": null,
   "metadata": {},
   "outputs": [],
   "source": []
  }
 ],
 "metadata": {
  "kernelspec": {
   "display_name": "Python 3",
   "language": "python",
   "name": "python3"
  },
  "language_info": {
   "codemirror_mode": {
    "name": "ipython",
    "version": 3
   },
   "file_extension": ".py",
   "mimetype": "text/x-python",
   "name": "python",
   "nbconvert_exporter": "python",
   "pygments_lexer": "ipython3",
   "version": "3.8.10"
  }
 },
 "nbformat": 4,
 "nbformat_minor": 2
}
