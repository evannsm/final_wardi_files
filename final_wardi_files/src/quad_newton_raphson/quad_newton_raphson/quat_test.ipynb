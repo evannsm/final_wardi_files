{
 "cells": [
  {
   "cell_type": "code",
   "execution_count": 11,
   "metadata": {},
   "outputs": [],
   "source": [
    "import numpy as np\n",
    "import math as m"
   ]
  },
  {
   "cell_type": "code",
   "execution_count": 12,
   "metadata": {},
   "outputs": [],
   "source": [
    "# Define function to convert quaternion to Euler angles (roll, pitch, yaw) for NED frame\n",
    "def quaternion_to_euler_ned(quaternion):\n",
    "    q0, q1, q2, q3 = quaternion\n",
    "    \n",
    "    # Compute roll (phi)\n",
    "    roll = np.arctan2(2 * (q0 * q1 + q2 * q3), 1 - 2 * (q1**2 + q2**2))\n",
    "    \n",
    "    # Compute pitch (theta)\n",
    "    pitch = np.arcsin(-2 * (q1 * q3 - q0 * q2))\n",
    "    \n",
    "    # Compute yaw (psi)\n",
    "    yaw = np.arctan2(2 * (q0 * q3 + q1 * q2), 1 - 2 * (q2**2 + q3**2))\n",
    "    \n",
    "    return roll, pitch, yaw"
   ]
  },
  {
   "cell_type": "code",
   "execution_count": 13,
   "metadata": {},
   "outputs": [
    {
     "data": {
      "text/plain": [
       "((-0.005448548747675254, -0.6230168839485196, -0.01056768952073164),\n",
       " (0.5012406392152461, -0.041760936067651314, -0.019268071764359056))"
      ]
     },
     "execution_count": 13,
     "metadata": {},
     "output_type": "execute_result"
    }
   ],
   "source": [
    "# Given quaternions\n",
    "quat1 = [0.9518511295318604, -0.004212579224258661, -0.3064756989479065, -0.005864466540515423]\n",
    "quat2 = [0.9685525298118591, 0.24774451553821564, -0.022614458575844765, -0.004153035115450621]\n",
    "\n",
    "# Convert to Euler angles\n",
    "euler1 = quaternion_to_euler_ned(quat1)\n",
    "euler2 = quaternion_to_euler_ned(quat2)\n",
    "\n",
    "# Display the results\n",
    "euler1, euler2\n"
   ]
  },
  {
   "cell_type": "code",
   "execution_count": 14,
   "metadata": {},
   "outputs": [
    {
     "name": "stdout",
     "output_type": "stream",
     "text": [
      "(0.0010213747220312649, 0.00514723412711687, -1.5701708005966728)\n"
     ]
    }
   ],
   "source": [
    "q_yaw = [0.7073245644569397, 0.0021804727148264647, 0.0014593926025554538, -0.7068840861320496] # -pi/2 yaw so points in -y direction in NED frame\n",
    "euler_yaw = quaternion_to_euler_ned(q_yaw)\n",
    "print(euler_yaw) # expect (0, 0, -pi/2) in radians\n"
   ]
  },
  {
   "cell_type": "code",
   "execution_count": 15,
   "metadata": {},
   "outputs": [
    {
     "name": "stdout",
     "output_type": "stream",
     "text": [
      "(0.23463351899504178, -0.008678361049081072, -0.0019665633266820544)\n"
     ]
    }
   ],
   "source": [
    "q_roll = [0.9931170344352722, 0.1170424297451973, -0.004424428101629019, -0.00046862370800226927] # roll positive to go in +Y direction in NED frame\n",
    "print(quaternion_to_euler_ned(q_roll)) # "
   ]
  },
  {
   "cell_type": "code",
   "execution_count": 16,
   "metadata": {},
   "outputs": [
    {
     "name": "stdout",
     "output_type": "stream",
     "text": [
      "(0.017914815259967427, -0.3551913217652757, -0.0161687286564694)\n"
     ]
    }
   ],
   "source": [
    "q_pitch = [0.9842124581336975, 0.007387973368167877, -0.1767219752073288, -0.006374427117407322] # pitch negative to go in +X direction in NED frame\n",
    "print(quaternion_to_euler_ned(q_pitch)) # "
   ]
  },
  {
   "cell_type": "code",
   "execution_count": null,
   "metadata": {},
   "outputs": [],
   "source": []
  }
 ],
 "metadata": {
  "kernelspec": {
   "display_name": "jax_env",
   "language": "python",
   "name": "python3"
  },
  "language_info": {
   "codemirror_mode": {
    "name": "ipython",
    "version": 3
   },
   "file_extension": ".py",
   "mimetype": "text/x-python",
   "name": "python",
   "nbconvert_exporter": "python",
   "pygments_lexer": "ipython3",
   "version": "3.8.19"
  }
 },
 "nbformat": 4,
 "nbformat_minor": 2
}
