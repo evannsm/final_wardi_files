{
  "cells": [
    {
      "cell_type": "markdown",
      "metadata": {},
      "source": [
        "# Set up Data Generation"
      ]
    },
    {
      "cell_type": "code",
      "execution_count": 1,
      "metadata": {
        "id": "vw-kgNexfNfT"
      },
      "outputs": [],
      "source": [
        "import numpy as np\n",
        "import pandas as pd\n",
        "from torch.utils.data import Dataset\n",
        "import torch\n",
        "from numpy import random\n",
        "from sympy import *\n"
      ]
    },
    {
      "cell_type": "code",
      "execution_count": 2,
      "metadata": {},
      "outputs": [
        {
          "name": "stdout",
          "output_type": "stream",
          "text": [
            "sim\n"
          ]
        }
      ],
      "source": [
        "sim = True\n",
        "print(f\"{'sim' if sim else 'hardware'}\")"
      ]
    },
    {
      "cell_type": "code",
      "execution_count": 3,
      "metadata": {
        "id": "nb5hdnQVfQtx"
      },
      "outputs": [
        {
          "name": "stdout",
          "output_type": "stream",
          "text": [
            "m = 1.55 because sim mode is activated\n"
          ]
        }
      ],
      "source": [
        "g =  9.806\n",
        "m = 1.55 if sim else 1.85\n",
        "print(f\"{m = } because {'sim' if sim else 'hardware'} mode is activated\")"
      ]
    },
    {
      "cell_type": "code",
      "execution_count": 4,
      "metadata": {
        "id": "0sstQOM86UaP"
      },
      "outputs": [],
      "source": [
        "T_lookahead = 0.8\n",
        "integration_step = 0.1\n",
        "integrations = T_lookahead / integration_step\n",
        "integrations_int = int(integrations)"
      ]
    },
    {
      "cell_type": "code",
      "execution_count": 5,
      "metadata": {
        "id": "YJvhJKzW_AVq"
      },
      "outputs": [],
      "source": [
        "C = np.array([[1, 0, 0, 0, 0, 0, 0, 0, 0],\n",
        "        [0, 1, 0, 0, 0, 0, 0, 0, 0],\n",
        "        [0, 0, 1, 0, 0, 0, 0, 0, 0],\n",
        "        [0, 0, 0, 0, 0, 0, 0, 0, 1]])"
      ]
    },
    {
      "cell_type": "code",
      "execution_count": 6,
      "metadata": {
        "id": "pjKdpJ-wAdFX"
      },
      "outputs": [],
      "source": [
        "def get_outputs(num_data_gen=100):\n",
        "  allData = np.empty((0, 17))\n",
        "  # print(allData)\n",
        "  for i in range(num_data_gen):\n",
        "    curr_thrust = random.uniform(0.0,27)\n",
        "    curr_rolldot, curr_pitchdot, curr_yawdot = random.uniform(-0.9,0.9), random.uniform(-0.9,0.9), random.uniform(-0.9,0.9)\n",
        "\n",
        "    xx = 2.0\n",
        "    curr_x, curr_y, curr_z = random.uniform(-xx,xx), random.uniform(-xx,xx), random.uniform(0,-xx)\n",
        "\n",
        "    vv = 1.0\n",
        "    curr_vx, curr_vy, curr_vz = random.uniform(-vv,vv), random.uniform(-vv,vv), random.uniform(-vv,vv)\n",
        "\n",
        "    ll = 12*np.pi\n",
        "    curr_roll, curr_pitch, curr_yaw = random.uniform(-ll,ll), random.uniform(-ll,ll), random.uniform(-ll,ll)\n",
        "\n",
        "    stateVector = [curr_x, curr_y, curr_z, curr_vx, curr_vy, curr_vz, curr_roll, curr_pitch, curr_yaw]\n",
        "    inputVector = [curr_thrust, curr_rolldot, curr_pitchdot, curr_yawdot]\n",
        "\n",
        "    cumm_change_x = 0.0\n",
        "    cumm_change_y = 0.0\n",
        "    cumm_change_z = 0.0\n",
        "    cumm_change_vx = 0.0\n",
        "    cumm_change_vy = 0.0\n",
        "    cumm_change_vz = 0.0\n",
        "    cumm_change_roll = 0.0\n",
        "    cumm_change_pitch = 0.0\n",
        "    cumm_change_yaw = 0.0\n",
        "\n",
        "    xdot = curr_vx\n",
        "    ydot = curr_vy\n",
        "    zdot = curr_vz\n",
        "\n",
        "    vxdot = -(curr_thrust/m) * (sin(curr_roll)*sin(curr_yaw) + cos(curr_roll)*cos(curr_yaw)*sin(curr_pitch));\n",
        "    vydot = -(curr_thrust/m) * (cos(curr_roll)*sin(curr_yaw)*sin(curr_pitch) - cos(curr_yaw)*sin(curr_roll));\n",
        "    vzdot = g - (curr_thrust/m) * (cos(curr_roll)*cos(curr_pitch));\n",
        "\n",
        "    rolldot = curr_rolldot\n",
        "    pitchdot = curr_pitchdot\n",
        "    yawdot = curr_yawdot\n",
        "\n",
        "    roll = curr_roll\n",
        "    pitch = curr_pitch\n",
        "    yaw = curr_yaw\n",
        "    change_vx = 0\n",
        "    change_vy = 0\n",
        "    change_vz = 0\n",
        "\n",
        "    for _ in range(integrations_int):\n",
        "      change_x = (xdot+cumm_change_vx) * integration_step;\n",
        "      change_y = (ydot+cumm_change_vy) * integration_step;\n",
        "      change_z = (zdot+cumm_change_vz) * integration_step;\n",
        "      change_vx = vxdot * integration_step;\n",
        "      change_vy = vydot * integration_step;\n",
        "      change_vz = vzdot * integration_step;\n",
        "      change_roll = rolldot * integration_step;\n",
        "      change_pitch = pitchdot * integration_step;\n",
        "      change_yaw = yawdot * integration_step;\n",
        "\n",
        "      roll = roll + change_roll;\n",
        "      pitch = pitch + change_pitch;\n",
        "      yaw =  yaw + change_yaw;\n",
        "\n",
        "      sr = sin(roll)\n",
        "      sy = sin(yaw)\n",
        "      sp = sin(pitch)\n",
        "\n",
        "      cr = cos(roll)\n",
        "      cp = cos(pitch)\n",
        "      cy = cos(yaw)\n",
        "\n",
        "\n",
        "      vxdot = -(curr_thrust/m) * (sr*sy + cr*cy*sp);\n",
        "      vydot = -(curr_thrust/m) * (cr*sy*sp - cy*sr);\n",
        "      vzdot = g - (curr_thrust/m) * (cr*cp);\n",
        "\n",
        "\n",
        "      cumm_change_x = cumm_change_x + change_x;\n",
        "      cumm_change_y = cumm_change_y + change_y;\n",
        "      cumm_change_z = cumm_change_z + change_z;\n",
        "      cumm_change_vx = cumm_change_vx + change_vx;\n",
        "      cumm_change_vy = cumm_change_vy + change_vy;\n",
        "      cumm_change_vz = cumm_change_vz + change_vz;\n",
        "      cumm_change_roll = cumm_change_roll + change_roll;\n",
        "      cumm_change_pitch = cumm_change_pitch + change_pitch;\n",
        "      cumm_change_yaw = cumm_change_yaw + change_yaw;\n",
        "\n",
        "\n",
        "    x = curr_x + cumm_change_x\n",
        "    y = curr_y + cumm_change_y\n",
        "    z = curr_z + cumm_change_z\n",
        "    # print(f\"z: {z}\")\n",
        "    # print(\"\\n\")\n",
        "\n",
        "    vx = curr_vx + cumm_change_vx\n",
        "    vy = curr_vy + cumm_change_vy\n",
        "    vz = curr_vz + cumm_change_vz\n",
        "\n",
        "    roll = curr_roll + cumm_change_roll;\n",
        "    pitch = curr_pitch + cumm_change_pitch;\n",
        "    yaw = curr_yaw + cumm_change_yaw;\n",
        "\n",
        "    nonlin_pred = np.array([[x, y, z, vx, vy, vz, roll, pitch, yaw]]).T\n",
        "    outputs = C @ nonlin_pred\n",
        "\n",
        "    outputs2 = outputs.squeeze().tolist()\n",
        "    finalData = stateVector + inputVector + outputs2\n",
        "    finalData = np.array(finalData, dtype=float)\n",
        "    allData = np.vstack((allData, finalData))\n",
        "\n",
        "  return allData"
      ]
    },
    {
      "cell_type": "code",
      "execution_count": 7,
      "metadata": {},
      "outputs": [],
      "source": [
        "data_all = get_outputs(num_data_gen=50_000)"
      ]
    },
    {
      "cell_type": "code",
      "execution_count": 8,
      "metadata": {},
      "outputs": [
        {
          "name": "stdout",
          "output_type": "stream",
          "text": [
            "Saved under: 50k_iris_sim_expanded_more2 because sim is True\n"
          ]
        }
      ],
      "source": [
        "np.save('50k_iris_sim_expanded_more2' if sim else '50k_holybro_expanded_more2', data_all)\n",
        "print(f\"Saved under: {'50k_iris_sim_expanded_more2' if sim else '50k_holybro_expanded_more2'} because sim is {sim}\")"
      ]
    },
    {
      "cell_type": "markdown",
      "metadata": {},
      "source": [
        "# Set up Jax Neural Network Parameters and DataLoaders"
      ]
    },
    {
      "cell_type": "markdown",
      "metadata": {},
      "source": [
        "## Data Loading is not in Jax, so we'll use torch loading"
      ]
    },
    {
      "cell_type": "code",
      "execution_count": 136,
      "metadata": {},
      "outputs": [],
      "source": [
        "from torch.utils.data import Dataset\n",
        "from torch.utils.data import DataLoader\n",
        "import numpy as np\n",
        "import torch\n",
        "sim = True\n"
      ]
    },
    {
      "cell_type": "code",
      "execution_count": 137,
      "metadata": {},
      "outputs": [
        {
          "name": "stdout",
          "output_type": "stream",
          "text": [
            "Loaded 50k_iris_sim.npy because sim is True\n"
          ]
        }
      ],
      "source": [
        "data_all = np.load('50k_iris_sim.npy' if sim else '50k_holybro.npy' )\n",
        "print(f\"Loaded {'50k_iris_sim.npy' if sim else '50k_holybro.npy'} because sim is {sim}\")"
      ]
    },
    {
      "cell_type": "code",
      "execution_count": 138,
      "metadata": {},
      "outputs": [],
      "source": [
        "class QuadrotorDataset(Dataset):\n",
        "  def __init__(self, state_size = 9, ctrlinput_size = 4, training=True, data_all = data_all):\n",
        "    self.input_size = state_size + ctrlinput_size\n",
        "    self.output_size = ctrlinput_size\n",
        "    np.random.shuffle(data_all)\n",
        "    train_size = int(len(data_all)*0.8)\n",
        "    if training:\n",
        "      self.data = data_all[0:train_size]\n",
        "    else:\n",
        "      self.data = data_all[train_size:]\n",
        "\n",
        "  def __len__(self):\n",
        "    return len(self.data)\n",
        "\n",
        "  def __getitem__(self, idx):\n",
        "    inputs = self.data[idx, 0: self.input_size]\n",
        "    outputs = self.data[idx, self.input_size:]\n",
        "    return torch.FloatTensor(inputs), torch.FloatTensor(outputs).view(4)\n"
      ]
    },
    {
      "cell_type": "code",
      "execution_count": 139,
      "metadata": {},
      "outputs": [],
      "source": [
        "train_dataset = QuadrotorDataset(training=True)\n",
        "test_dataset = QuadrotorDataset(training=False)"
      ]
    },
    {
      "cell_type": "code",
      "execution_count": 140,
      "metadata": {},
      "outputs": [],
      "source": [
        "batch_size = 128\n",
        "train_dataloader = DataLoader(\n",
        "    train_dataset,\n",
        "    batch_size=batch_size,\n",
        "    shuffle=True,\n",
        ")\n",
        "\n",
        "test_dataloader = DataLoader(\n",
        "    test_dataset,\n",
        "    batch_size=batch_size,\n",
        "    shuffle=False,\n",
        ")"
      ]
    },
    {
      "cell_type": "code",
      "execution_count": 141,
      "metadata": {},
      "outputs": [
        {
          "name": "stdout",
          "output_type": "stream",
          "text": [
            "train_dataloader.dataset.data.shape = (40000, 17)\n",
            "test_dataloader.dataset.data.shape = (10000, 17)\n"
          ]
        }
      ],
      "source": [
        "print(f\"{train_dataloader.dataset.data.shape = }\")\n",
        "print(f\"{test_dataloader.dataset.data.shape = }\")"
      ]
    },
    {
      "cell_type": "code",
      "execution_count": 147,
      "metadata": {},
      "outputs": [
        {
          "data": {
            "text/plain": [
              "(17,)"
            ]
          },
          "execution_count": 147,
          "metadata": {},
          "output_type": "execute_result"
        }
      ],
      "source": [
        "train_dataloader.dataset.data[0].shape"
      ]
    },
    {
      "cell_type": "markdown",
      "metadata": {},
      "source": [
        "## Set up Jax NN"
      ]
    },
    {
      "cell_type": "code",
      "execution_count": 67,
      "metadata": {},
      "outputs": [],
      "source": [
        "import jax.numpy as jnp\n",
        "from jax import grad, jit, vmap\n",
        "from jax import random"
      ]
    },
    {
      "cell_type": "code",
      "execution_count": 96,
      "metadata": {},
      "outputs": [],
      "source": [
        "input_size = 13\n",
        "output_size = 4\n",
        "\n",
        "num_epochs = 100\n",
        "step_size = 1e-3\n",
        "n_targets = output_size"
      ]
    },
    {
      "cell_type": "code",
      "execution_count": 97,
      "metadata": {},
      "outputs": [],
      "source": [
        "# A helper function to randomly initialize weights and biases\n",
        "# for a dense neural network layer\n",
        "def random_layer_params(m, n, key, scale=1e-2):\n",
        "  w_key, b_key = random.split(key)\n",
        "  return scale * random.normal(w_key, (n, m)), scale * random.normal(b_key, (n,))\n",
        "\n",
        "# Initialize all layers for a fully-connected neural network with sizes \"sizes\"\n",
        "def init_network_params(sizes, key):\n",
        "  keys = random.split(key, len(sizes))\n",
        "  return [random_layer_params(m, n, k) for m, n, k in zip(sizes[:-1], sizes[1:], keys)]\n",
        "\n",
        "layer_sizes = [input_size, 128, 256, 256, 128, output_size]\n",
        "params = init_network_params(layer_sizes, random.key(0))\n"
      ]
    },
    {
      "cell_type": "code",
      "execution_count": 98,
      "metadata": {},
      "outputs": [],
      "source": [
        "def relu(x):\n",
        "  return jnp.maximum(0, x)\n",
        "\n",
        "def predict(params, input):\n",
        "  activations = input\n",
        "  for w, b in params[:-1]:\n",
        "    outputs = jnp.dot(w, activations) + b\n",
        "    activations = relu(outputs)\n",
        "\n",
        "  final_w, final_b = params[-1]\n",
        "  logits = jnp.dot(final_w, activations) + final_b\n",
        "  return logits"
      ]
    },
    {
      "cell_type": "code",
      "execution_count": 99,
      "metadata": {},
      "outputs": [
        {
          "name": "stdout",
          "output_type": "stream",
          "text": [
            "(4,)\n",
            "preds = Array([-0.00604843, -0.01136389, -0.01196619,  0.01512964], dtype=float32)\n"
          ]
        }
      ],
      "source": [
        "# This works on single examples\n",
        "random_flattened_input = random.normal(random.key(1), (input_size,))\n",
        "preds = predict(params, random_flattened_input)\n",
        "print(preds.shape)\n",
        "print(f\"{preds = }\")\n"
      ]
    },
    {
      "cell_type": "code",
      "execution_count": 100,
      "metadata": {},
      "outputs": [
        {
          "name": "stdout",
          "output_type": "stream",
          "text": [
            "valid shape! (13,)\n",
            "\n",
            "\n",
            "Invalid shapes! (10, 13)\n"
          ]
        }
      ],
      "source": [
        "# Doesn't work with a batch\n",
        "shape1 = (input_size,)\n",
        "random_flattened_inputs = random.normal(random.key(1), shape1)\n",
        "try:\n",
        "  preds = predict(params, random_flattened_inputs)\n",
        "  print(f\"valid shape! {shape1}\")\n",
        "except TypeError:\n",
        "  print(f'Invalid shapes! {shape1}')\n",
        "\n",
        "print(\"\\n\")\n",
        "\n",
        "num_samples = 10\n",
        "shape1 = (num_samples, input_size)\n",
        "random_flattened_inputs = random.normal(random.key(1), shape1)\n",
        "try:\n",
        "  preds = predict(params, random_flattened_inputs)\n",
        "  print(f\"valid shape! {shape1}\")\n",
        "except TypeError:\n",
        "  print(f'Invalid shapes! {shape1}')"
      ]
    },
    {
      "cell_type": "code",
      "execution_count": 101,
      "metadata": {},
      "outputs": [
        {
          "name": "stdout",
          "output_type": "stream",
          "text": [
            "batched_preds.shape = (10, 4)\n",
            "batched_preds = Array([[-0.00604614, -0.0113606 , -0.01196401,  0.01513135],\n",
            "       [-0.00604962, -0.01136125, -0.01196812,  0.01512348],\n",
            "       [-0.00605041, -0.01135947, -0.01196369,  0.01512833],\n",
            "       [-0.0060488 , -0.01136376, -0.01196304,  0.01512736],\n",
            "       [-0.00605286, -0.01135952, -0.01196669,  0.01512857],\n",
            "       [-0.00604817, -0.01135933, -0.01196317,  0.01512552],\n",
            "       [-0.00605275, -0.01135965, -0.01196006,  0.0151287 ],\n",
            "       [-0.00605385, -0.01136227, -0.01196395,  0.01512983],\n",
            "       [-0.00605192, -0.01136083, -0.01196083,  0.01512848],\n",
            "       [-0.00604921, -0.01136264, -0.01196166,  0.01512884]],      dtype=float32)\n"
          ]
        }
      ],
      "source": [
        "# Let's upgrade it to handle batches using `vmap`\n",
        "# Make a batched version of the `predict` function\n",
        "batched_predict = vmap(predict, in_axes=(None, 0))\n",
        "\n",
        "# `batched_predict` has the same call signature as `predict`\n",
        "batched_preds = batched_predict(params, random_flattened_inputs)\n",
        "print(f\"{batched_preds.shape = }\")\n",
        "print(f\"{batched_preds = }\")"
      ]
    },
    {
      "cell_type": "code",
      "execution_count": 131,
      "metadata": {},
      "outputs": [],
      "source": [
        "def accuracy(params, inputs, outputs):\n",
        "  pred = batched_predict(params, inputs)\n",
        "  loss = MSE(pred, outputs)\n",
        "  return loss\n",
        "\n",
        "def MSE(pred, target):\n",
        "  return jnp.mean((pred - target)**2)\n",
        "\n",
        "def loss(params, images, targets):\n",
        "  preds = batched_predict(params, images)\n",
        "  return MSE(preds, targets)\n",
        "\n",
        "@jit\n",
        "def update(params, x, y):\n",
        "  grads = grad(loss)(params, x, y)\n",
        "  return [(w - step_size * dw, b - step_size * db)\n",
        "          for (w, b), (dw, db) in zip(params, grads)]"
      ]
    },
    {
      "cell_type": "code",
      "execution_count": 132,
      "metadata": {},
      "outputs": [],
      "source": [
        "train_input = np.array(train_dataset.data[:, :input_size])\n",
        "train_output = np.array(train_dataset.data[:, input_size:])\n",
        "\n",
        "test_input = np.array(test_dataset.data[:, :input_size])\n",
        "test_output = np.array(test_dataset.data[:, input_size:])\n"
      ]
    },
    {
      "cell_type": "code",
      "execution_count": 134,
      "metadata": {},
      "outputs": [
        {
          "name": "stdout",
          "output_type": "stream",
          "text": [
            "Epoch 0 in 0.78 sec\n",
            "Training set accuracy 2.1700570583343506\n",
            "Test set accuracy 2.156676769256592\n",
            "Epoch 1 in 0.73 sec\n",
            "Training set accuracy 2.164411783218384\n",
            "Test set accuracy 2.1512367725372314\n",
            "Epoch 2 in 0.76 sec\n",
            "Training set accuracy 2.1602988243103027\n",
            "Test set accuracy 2.1472995281219482\n",
            "Epoch 3 in 0.72 sec\n",
            "Training set accuracy 2.157299041748047\n",
            "Test set accuracy 2.1444509029388428\n",
            "Epoch 4 in 0.74 sec\n",
            "Training set accuracy 2.1551198959350586\n",
            "Test set accuracy 2.1424012184143066\n",
            "Epoch 5 in 0.75 sec\n",
            "Training set accuracy 2.153538227081299\n",
            "Test set accuracy 2.1409270763397217\n",
            "Epoch 6 in 0.71 sec\n",
            "Training set accuracy 2.1523799896240234\n",
            "Test set accuracy 2.1398627758026123\n",
            "Epoch 7 in 0.74 sec\n",
            "Training set accuracy 2.1515324115753174\n",
            "Test set accuracy 2.139094352722168\n",
            "Epoch 8 in 0.73 sec\n",
            "Training set accuracy 2.150925397872925\n",
            "Test set accuracy 2.1385552883148193\n",
            "Epoch 9 in 0.74 sec\n",
            "Training set accuracy 2.150480270385742\n",
            "Test set accuracy 2.138167142868042\n",
            "Epoch 10 in 0.75 sec\n",
            "Training set accuracy 2.1501569747924805\n",
            "Test set accuracy 2.1378934383392334\n",
            "Epoch 11 in 0.74 sec\n",
            "Training set accuracy 2.149918556213379\n",
            "Test set accuracy 2.137697696685791\n",
            "Epoch 12 in 0.75 sec\n",
            "Training set accuracy 2.1497461795806885\n",
            "Test set accuracy 2.137561559677124\n",
            "Epoch 13 in 0.72 sec\n",
            "Training set accuracy 2.14962100982666\n",
            "Test set accuracy 2.137467622756958\n",
            "Epoch 14 in 0.80 sec\n",
            "Training set accuracy 2.1495296955108643\n",
            "Test set accuracy 2.137403964996338\n",
            "Epoch 15 in 0.75 sec\n",
            "Training set accuracy 2.149463176727295\n",
            "Test set accuracy 2.1373581886291504\n",
            "Epoch 16 in 0.75 sec\n",
            "Training set accuracy 2.1494154930114746\n",
            "Test set accuracy 2.1373322010040283\n",
            "Epoch 17 in 0.74 sec\n",
            "Training set accuracy 2.149380922317505\n",
            "Test set accuracy 2.1373131275177\n",
            "Epoch 18 in 0.80 sec\n",
            "Training set accuracy 2.149355173110962\n",
            "Test set accuracy 2.1373002529144287\n",
            "Epoch 19 in 0.75 sec\n",
            "Training set accuracy 2.149336576461792\n",
            "Test set accuracy 2.137293815612793\n",
            "Epoch 20 in 0.78 sec\n",
            "Training set accuracy 2.1493237018585205\n",
            "Test set accuracy 2.137291431427002\n",
            "Epoch 21 in 0.72 sec\n",
            "Training set accuracy 2.14931321144104\n",
            "Test set accuracy 2.137291193008423\n",
            "Epoch 22 in 0.74 sec\n",
            "Training set accuracy 2.149305820465088\n",
            "Test set accuracy 2.1372900009155273\n",
            "Epoch 23 in 0.80 sec\n",
            "Training set accuracy 2.1493005752563477\n",
            "Test set accuracy 2.1372897624969482\n",
            "Epoch 24 in 0.72 sec\n",
            "Training set accuracy 2.149296760559082\n",
            "Test set accuracy 2.137291431427002\n",
            "Epoch 25 in 0.85 sec\n",
            "Training set accuracy 2.1492936611175537\n",
            "Test set accuracy 2.1372921466827393\n",
            "Epoch 26 in 0.75 sec\n",
            "Training set accuracy 2.1492910385131836\n",
            "Test set accuracy 2.1372947692871094\n",
            "Epoch 27 in 0.77 sec\n",
            "Training set accuracy 2.149289846420288\n",
            "Test set accuracy 2.1372952461242676\n",
            "Epoch 28 in 0.74 sec\n",
            "Training set accuracy 2.1492881774902344\n",
            "Test set accuracy 2.137295961380005\n",
            "Epoch 29 in 0.78 sec\n",
            "Training set accuracy 2.149287462234497\n",
            "Test set accuracy 2.1372971534729004\n",
            "Epoch 30 in 0.85 sec\n",
            "Training set accuracy 2.1492865085601807\n",
            "Test set accuracy 2.1373000144958496\n",
            "Epoch 31 in 0.75 sec\n",
            "Training set accuracy 2.1492857933044434\n",
            "Test set accuracy 2.1373023986816406\n",
            "Epoch 32 in 0.76 sec\n",
            "Training set accuracy 2.149285078048706\n",
            "Test set accuracy 2.137303113937378\n",
            "Epoch 33 in 0.79 sec\n",
            "Training set accuracy 2.1492843627929688\n",
            "Test set accuracy 2.137302875518799\n",
            "Epoch 34 in 0.78 sec\n",
            "Training set accuracy 2.1492838859558105\n",
            "Test set accuracy 2.1373050212860107\n",
            "Epoch 35 in 0.75 sec\n",
            "Training set accuracy 2.1492834091186523\n",
            "Test set accuracy 2.137305498123169\n",
            "Epoch 36 in 0.76 sec\n",
            "Training set accuracy 2.149282932281494\n",
            "Test set accuracy 2.137305498123169\n",
            "Epoch 37 in 0.75 sec\n",
            "Training set accuracy 2.149282455444336\n",
            "Test set accuracy 2.137303590774536\n",
            "Epoch 38 in 0.72 sec\n",
            "Training set accuracy 2.1492819786071777\n",
            "Test set accuracy 2.1373043060302734\n",
            "Epoch 39 in 0.80 sec\n",
            "Training set accuracy 2.1492815017700195\n",
            "Test set accuracy 2.1373040676116943\n",
            "Epoch 40 in 0.75 sec\n",
            "Training set accuracy 2.1492815017700195\n",
            "Test set accuracy 2.1373040676116943\n",
            "Epoch 41 in 0.79 sec\n",
            "Training set accuracy 2.1492807865142822\n",
            "Test set accuracy 2.1373038291931152\n",
            "Epoch 42 in 0.86 sec\n",
            "Training set accuracy 2.149280309677124\n",
            "Test set accuracy 2.1373066902160645\n",
            "Epoch 43 in 0.79 sec\n",
            "Training set accuracy 2.149280071258545\n",
            "Test set accuracy 2.137305498123169\n",
            "Epoch 44 in 0.76 sec\n",
            "Training set accuracy 2.1492795944213867\n",
            "Test set accuracy 2.137305498123169\n",
            "Epoch 45 in 0.78 sec\n",
            "Training set accuracy 2.1492793560028076\n",
            "Test set accuracy 2.137305498123169\n",
            "Epoch 46 in 0.92 sec\n",
            "Training set accuracy 2.1492788791656494\n",
            "Test set accuracy 2.1373045444488525\n",
            "Epoch 47 in 0.94 sec\n",
            "Training set accuracy 2.149278402328491\n",
            "Test set accuracy 2.1373062133789062\n",
            "Epoch 48 in 0.77 sec\n",
            "Training set accuracy 2.149278163909912\n",
            "Test set accuracy 2.137305974960327\n",
            "Epoch 49 in 0.89 sec\n",
            "Training set accuracy 2.149277687072754\n",
            "Test set accuracy 2.1373062133789062\n",
            "Epoch 50 in 0.88 sec\n",
            "Training set accuracy 2.1492772102355957\n",
            "Test set accuracy 2.13730525970459\n",
            "Epoch 51 in 0.78 sec\n",
            "Training set accuracy 2.1492769718170166\n",
            "Test set accuracy 2.1373045444488525\n",
            "Epoch 52 in 0.73 sec\n",
            "Training set accuracy 2.1492767333984375\n",
            "Test set accuracy 2.137305498123169\n",
            "Epoch 53 in 0.79 sec\n",
            "Training set accuracy 2.1492760181427\n",
            "Test set accuracy 2.1373038291931152\n",
            "Epoch 54 in 0.79 sec\n",
            "Training set accuracy 2.149275779724121\n",
            "Test set accuracy 2.137303113937378\n",
            "Epoch 55 in 0.75 sec\n",
            "Training set accuracy 2.149275302886963\n",
            "Test set accuracy 2.137303352355957\n",
            "Epoch 56 in 0.74 sec\n",
            "Training set accuracy 2.149275064468384\n",
            "Test set accuracy 2.1373038291931152\n",
            "Epoch 57 in 0.79 sec\n",
            "Training set accuracy 2.1492745876312256\n",
            "Test set accuracy 2.137303113937378\n",
            "Epoch 58 in 0.76 sec\n",
            "Training set accuracy 2.1492741107940674\n",
            "Test set accuracy 2.1373016834259033\n",
            "Epoch 59 in 0.77 sec\n",
            "Training set accuracy 2.1492738723754883\n",
            "Test set accuracy 2.137301206588745\n",
            "Epoch 60 in 0.75 sec\n",
            "Training set accuracy 2.14927339553833\n",
            "Test set accuracy 2.137300491333008\n",
            "Epoch 61 in 0.78 sec\n",
            "Training set accuracy 2.149272918701172\n",
            "Test set accuracy 2.137300968170166\n",
            "Epoch 62 in 0.79 sec\n",
            "Training set accuracy 2.1492726802825928\n",
            "Test set accuracy 2.137298345565796\n",
            "Epoch 63 in 0.74 sec\n",
            "Training set accuracy 2.1492722034454346\n",
            "Test set accuracy 2.1372976303100586\n",
            "Epoch 64 in 0.74 sec\n",
            "Training set accuracy 2.1492717266082764\n",
            "Test set accuracy 2.137296199798584\n",
            "Epoch 65 in 0.73 sec\n",
            "Training set accuracy 2.1492714881896973\n",
            "Test set accuracy 2.1372969150543213\n",
            "Epoch 66 in 0.77 sec\n",
            "Training set accuracy 2.149271011352539\n",
            "Test set accuracy 2.1372971534729004\n",
            "Epoch 67 in 0.76 sec\n",
            "Training set accuracy 2.149270534515381\n",
            "Test set accuracy 2.137295722961426\n",
            "Epoch 68 in 0.77 sec\n",
            "Training set accuracy 2.1492702960968018\n",
            "Test set accuracy 2.1372969150543213\n",
            "Epoch 69 in 0.79 sec\n",
            "Training set accuracy 2.1492695808410645\n",
            "Test set accuracy 2.1372969150543213\n",
            "Epoch 70 in 0.74 sec\n",
            "Training set accuracy 2.1492693424224854\n",
            "Test set accuracy 2.137296438217163\n",
            "Epoch 71 in 0.77 sec\n",
            "Training set accuracy 2.149268865585327\n",
            "Test set accuracy 2.137294054031372\n",
            "Epoch 72 in 0.75 sec\n",
            "Training set accuracy 2.149268388748169\n",
            "Test set accuracy 2.137293577194214\n",
            "Epoch 73 in 0.76 sec\n",
            "Training set accuracy 2.1492679119110107\n",
            "Test set accuracy 2.1372926235198975\n",
            "Epoch 74 in 0.75 sec\n",
            "Training set accuracy 2.1492674350738525\n",
            "Test set accuracy 2.1372923851013184\n",
            "Epoch 75 in 0.75 sec\n",
            "Training set accuracy 2.1492671966552734\n",
            "Test set accuracy 2.137291669845581\n",
            "Epoch 76 in 0.77 sec\n",
            "Training set accuracy 2.1492667198181152\n",
            "Test set accuracy 2.1372907161712646\n",
            "Epoch 77 in 0.78 sec\n",
            "Training set accuracy 2.149266242980957\n",
            "Test set accuracy 2.1372902393341064\n",
            "Epoch 78 in 0.77 sec\n",
            "Training set accuracy 2.149266004562378\n",
            "Test set accuracy 2.1372897624969482\n",
            "Epoch 79 in 0.74 sec\n",
            "Training set accuracy 2.1492652893066406\n",
            "Test set accuracy 2.1372902393341064\n",
            "Epoch 80 in 0.91 sec\n",
            "Training set accuracy 2.1492650508880615\n",
            "Test set accuracy 2.1372897624969482\n",
            "Epoch 81 in 0.78 sec\n",
            "Training set accuracy 2.149264335632324\n",
            "Test set accuracy 2.1372902393341064\n",
            "Epoch 82 in 0.77 sec\n",
            "Training set accuracy 2.149264097213745\n",
            "Test set accuracy 2.1372897624969482\n",
            "Epoch 83 in 0.82 sec\n",
            "Training set accuracy 2.149263620376587\n",
            "Test set accuracy 2.1372897624969482\n",
            "Epoch 84 in 0.82 sec\n",
            "Training set accuracy 2.1492631435394287\n",
            "Test set accuracy 2.137289524078369\n",
            "Epoch 85 in 0.82 sec\n",
            "Training set accuracy 2.1492624282836914\n",
            "Test set accuracy 2.1372883319854736\n",
            "Epoch 86 in 0.79 sec\n",
            "Training set accuracy 2.149261951446533\n",
            "Test set accuracy 2.1372878551483154\n",
            "Epoch 87 in 0.79 sec\n",
            "Training set accuracy 2.149261713027954\n",
            "Test set accuracy 2.1372878551483154\n",
            "Epoch 88 in 0.75 sec\n",
            "Training set accuracy 2.149261236190796\n",
            "Test set accuracy 2.1372885704040527\n",
            "Epoch 89 in 0.78 sec\n",
            "Training set accuracy 2.1492607593536377\n",
            "Test set accuracy 2.1372883319854736\n",
            "Epoch 90 in 0.79 sec\n",
            "Training set accuracy 2.1492602825164795\n",
            "Test set accuracy 2.1372878551483154\n",
            "Epoch 91 in 0.78 sec\n",
            "Training set accuracy 2.1492598056793213\n",
            "Test set accuracy 2.1372873783111572\n",
            "Epoch 92 in 0.85 sec\n",
            "Training set accuracy 2.149259328842163\n",
            "Test set accuracy 2.1372883319854736\n",
            "Epoch 93 in 0.82 sec\n",
            "Training set accuracy 2.149258613586426\n",
            "Test set accuracy 2.137286901473999\n",
            "Epoch 94 in 0.79 sec\n",
            "Training set accuracy 2.1492581367492676\n",
            "Test set accuracy 2.13728666305542\n",
            "Epoch 95 in 0.91 sec\n",
            "Training set accuracy 2.1492576599121094\n",
            "Test set accuracy 2.1372859477996826\n",
            "Epoch 96 in 0.81 sec\n",
            "Training set accuracy 2.149257183074951\n",
            "Test set accuracy 2.137284278869629\n",
            "Epoch 97 in 0.75 sec\n",
            "Training set accuracy 2.149256706237793\n",
            "Test set accuracy 2.1372830867767334\n",
            "Epoch 98 in 0.91 sec\n",
            "Training set accuracy 2.1492562294006348\n",
            "Test set accuracy 2.137281894683838\n",
            "Epoch 99 in 0.82 sec\n",
            "Training set accuracy 2.1492555141448975\n",
            "Test set accuracy 2.1372811794281006\n"
          ]
        }
      ],
      "source": [
        "import time\n",
        "\n",
        "for epoch in range(num_epochs):\n",
        "  start_time = time.time()\n",
        "  for x, y in train_dataloader:\n",
        "    x, y = x.numpy(), y.numpy()  # Convert tensors to numpy\n",
        "    params = update(params, x, y)\n",
        "  epoch_time = time.time() - start_time\n",
        "\n",
        "  train_acc = accuracy(params, train_input, train_output)\n",
        "  test_acc = accuracy(params, test_input, test_output)\n",
        "  print(\"Epoch {} in {:0.2f} sec\".format(epoch, epoch_time))\n",
        "  print(\"Training set accuracy {}\".format(train_acc))\n",
        "  print(\"Test set accuracy {}\".format(test_acc))"
      ]
    },
    {
      "cell_type": "code",
      "execution_count": null,
      "metadata": {},
      "outputs": [],
      "source": []
    },
    {
      "cell_type": "markdown",
      "metadata": {},
      "source": [
        "# Set up Torch Neural Network Parameters and DataLoaders"
      ]
    },
    {
      "cell_type": "code",
      "execution_count": 148,
      "metadata": {
        "id": "VSGIt3PB_Sj6"
      },
      "outputs": [],
      "source": [
        "\n",
        "from torch.utils.data import Dataset\n",
        "from torch.utils.data import DataLoader\n",
        "import matplotlib.pyplot as plt\n"
      ]
    },
    {
      "cell_type": "code",
      "execution_count": 149,
      "metadata": {
        "id": "g7YK_iAB_9uU"
      },
      "outputs": [],
      "source": [
        "num_epochs = 100\n",
        "batch_size = 128\n",
        "learning_rate = 1e-3"
      ]
    },
    {
      "cell_type": "code",
      "execution_count": 150,
      "metadata": {},
      "outputs": [
        {
          "name": "stdout",
          "output_type": "stream",
          "text": [
            "Loaded 50k_iris_sim.npy because sim is True\n"
          ]
        }
      ],
      "source": [
        "data_all = np.load('50k_iris_sim.npy' if sim else '50k_holybro.npy' )\n",
        "print(f\"Loaded {'50k_iris_sim.npy' if sim else '50k_holybro.npy'} because sim is {sim}\")\n",
        "# data_all = np.load('50k_iris_sim2.npy')"
      ]
    },
    {
      "cell_type": "code",
      "execution_count": 162,
      "metadata": {
        "id": "VIDuRmTDAFJD"
      },
      "outputs": [],
      "source": [
        "class QuadrotorDataset(Dataset):\n",
        "  def __init__(self, data_path = 'testing.csv', time_size=1, state_size = 9, ctrlinput_size = 4, training=True, data_all = data_all):\n",
        "    self.input_size = state_size + ctrlinput_size\n",
        "    self.output_size = ctrlinput_size\n",
        "\n",
        "    self.data = data_all\n",
        "\n",
        "    np.random.shuffle(data_all)\n",
        "    train_size = int(len(data_all)*0.8)\n",
        "\n",
        "\n",
        "    if training:\n",
        "      self.data = data_all[0:train_size]\n",
        "    else:\n",
        "      self.data = data_all[train_size:]\n",
        "\n",
        "    print(self.data.shape)\n",
        "\n",
        "  def __len__(self):\n",
        "    return len(self.data)\n",
        "\n",
        "  def __getitem__(self, idx):\n",
        "    # print(self.data[idx,:])\n",
        "    inputs = self.data[idx, 0: self.input_size]\n",
        "    outputs = self.data[idx, self.input_size:]\n",
        "    # print(type(inputs))\n",
        "    # print(type(outputs))\n",
        "    # print(inputs)\n",
        "    # print(inputs.dtype)\n",
        "    # print(\"h\")\n",
        "    return torch.FloatTensor(inputs), torch.FloatTensor(outputs).view(4)\n"
      ]
    },
    {
      "cell_type": "code",
      "execution_count": 163,
      "metadata": {
        "colab": {
          "base_uri": "https://localhost:8080/"
        },
        "id": "VFSfJ40v_uxX",
        "outputId": "3955bed6-f886-4bcd-b387-5d063947b727"
      },
      "outputs": [
        {
          "name": "stdout",
          "output_type": "stream",
          "text": [
            "(40000, 17)\n",
            "(10000, 17)\n"
          ]
        }
      ],
      "source": [
        "train_dataset = QuadrotorDataset(training=True)\n",
        "test_dataset = QuadrotorDataset(training=False)"
      ]
    },
    {
      "cell_type": "code",
      "execution_count": 164,
      "metadata": {
        "colab": {
          "base_uri": "https://localhost:8080/"
        },
        "id": "8vApRct6GopZ",
        "outputId": "b3003f64-9446-4762-f7da-34d090aa5a66"
      },
      "outputs": [
        {
          "data": {
            "text/plain": [
              "torch.Size([4])"
            ]
          },
          "execution_count": 164,
          "metadata": {},
          "output_type": "execute_result"
        }
      ],
      "source": [
        "train_dataset[0][1].shape"
      ]
    },
    {
      "cell_type": "code",
      "execution_count": 166,
      "metadata": {},
      "outputs": [
        {
          "name": "stdout",
          "output_type": "stream",
          "text": [
            "torch.Size([1, 13])\n",
            "torch.Size([1, 4])\n",
            "tensor([[-3.3642, -2.1191,  0.6514, -0.2020]])\n",
            "2\n"
          ]
        }
      ],
      "source": [
        "train_dataloader = DataLoader(\n",
        "    train_dataset,\n",
        "    batch_size=1,\n",
        "    shuffle=True,\n",
        ")\n",
        "for data in train_dataloader:\n",
        "    input_data, output_data = data\n",
        "    print(input_data.shape)\n",
        "    print(output_data.shape)\n",
        "    print(output_data)\n",
        "    print(output_data.dim())\n",
        "    break"
      ]
    },
    {
      "cell_type": "code",
      "execution_count": 159,
      "metadata": {},
      "outputs": [
        {
          "data": {
            "text/plain": [
              "(17,)"
            ]
          },
          "execution_count": 159,
          "metadata": {},
          "output_type": "execute_result"
        }
      ],
      "source": []
    },
    {
      "cell_type": "code",
      "execution_count": 155,
      "metadata": {
        "id": "jzhjo0mz_uzv"
      },
      "outputs": [],
      "source": [
        "train_dataloader = DataLoader(\n",
        "    train_dataset,\n",
        "    batch_size=batch_size,\n",
        "    shuffle=True,\n",
        ")"
      ]
    },
    {
      "cell_type": "code",
      "execution_count": 156,
      "metadata": {
        "id": "7kKaQXdY_u2N"
      },
      "outputs": [],
      "source": [
        "test_dataloader = DataLoader(\n",
        "    test_dataset,\n",
        "    batch_size=batch_size,\n",
        "    shuffle=False,\n",
        ")"
      ]
    },
    {
      "cell_type": "markdown",
      "metadata": {},
      "source": [
        "## Train PyTorch NNs"
      ]
    },
    {
      "cell_type": "code",
      "execution_count": 18,
      "metadata": {},
      "outputs": [],
      "source": [
        "from torch import nn\n",
        "import torch"
      ]
    },
    {
      "cell_type": "markdown",
      "metadata": {},
      "source": [
        "### Feed Forward"
      ]
    },
    {
      "cell_type": "code",
      "execution_count": 35,
      "metadata": {
        "id": "DWzisOK-_i9w"
      },
      "outputs": [],
      "source": [
        "class FeedForward(nn.Module):\n",
        "    def __init__(self, input_size = 13, output_size = 4):\n",
        "        super().__init__()\n",
        "        self.feedfwd_stack = nn.Sequential(\n",
        "            nn.Linear(input_size, 64),\n",
        "            nn.Linear(64, output_size)\n",
        "        )\n",
        "    def forward(self, x):\n",
        "        logits = self.feedfwd_stack(x)\n",
        "        return logits"
      ]
    },
    {
      "cell_type": "code",
      "execution_count": 36,
      "metadata": {
        "colab": {
          "base_uri": "https://localhost:8080/"
        },
        "id": "hdPQgCaA_mKP",
        "outputId": "ba8ab677-12c7-4e05-8bbb-7c4d2559c2e3"
      },
      "outputs": [
        {
          "name": "stdout",
          "output_type": "stream",
          "text": [
            "average loss in epoch #0: 494.8470153808594\n",
            "epoch [1/100], loss:1.2901\n",
            "average loss in epoch #1: 11.781023025512695\n",
            "epoch [2/100], loss:0.1281\n",
            "average loss in epoch #2: 1.7660558223724365\n",
            "epoch [3/100], loss:0.0362\n",
            "average loss in epoch #3: 1.4340147972106934\n",
            "epoch [4/100], loss:0.0348\n",
            "average loss in epoch #4: 1.4543503522872925\n",
            "epoch [5/100], loss:0.0350\n",
            "average loss in epoch #5: 1.5021871328353882\n",
            "epoch [6/100], loss:0.0350\n",
            "average loss in epoch #6: 1.4400982856750488\n",
            "epoch [7/100], loss:0.0354\n",
            "average loss in epoch #7: 1.429140567779541\n",
            "epoch [8/100], loss:0.0354\n",
            "average loss in epoch #8: 1.4986463785171509\n",
            "epoch [9/100], loss:0.0353\n",
            "average loss in epoch #9: 1.4340816736221313\n",
            "epoch [10/100], loss:0.0361\n",
            "average loss in epoch #10: 1.459977626800537\n",
            "epoch [11/100], loss:0.0355\n",
            "average loss in epoch #11: 1.4948861598968506\n",
            "epoch [12/100], loss:0.0357\n",
            "average loss in epoch #12: 1.4514696598052979\n",
            "epoch [13/100], loss:0.0356\n",
            "average loss in epoch #13: 1.4631000757217407\n",
            "epoch [14/100], loss:0.0356\n",
            "average loss in epoch #14: 1.4566795825958252\n",
            "epoch [15/100], loss:0.0357\n",
            "average loss in epoch #15: 1.4757421016693115\n",
            "epoch [16/100], loss:0.0356\n",
            "average loss in epoch #16: 1.4548046588897705\n",
            "epoch [17/100], loss:0.0357\n",
            "average loss in epoch #17: 1.460157871246338\n",
            "epoch [18/100], loss:0.0357\n",
            "average loss in epoch #18: 1.4495954513549805\n",
            "epoch [19/100], loss:0.0355\n",
            "average loss in epoch #19: 1.4441649913787842\n",
            "epoch [20/100], loss:0.0360\n",
            "average loss in epoch #20: 1.4468377828598022\n",
            "epoch [21/100], loss:0.0356\n",
            "average loss in epoch #21: 1.452585220336914\n",
            "epoch [22/100], loss:0.0356\n",
            "average loss in epoch #22: 1.4636492729187012\n",
            "epoch [23/100], loss:0.0360\n",
            "average loss in epoch #23: 1.46095871925354\n",
            "epoch [24/100], loss:0.0356\n",
            "average loss in epoch #24: 1.4381033182144165\n",
            "epoch [25/100], loss:0.0357\n",
            "average loss in epoch #25: 1.44563889503479\n",
            "epoch [26/100], loss:0.0361\n",
            "average loss in epoch #26: 1.503143310546875\n",
            "epoch [27/100], loss:0.0355\n",
            "average loss in epoch #27: 1.4532862901687622\n",
            "epoch [28/100], loss:0.0355\n",
            "average loss in epoch #28: 1.4646258354187012\n",
            "epoch [29/100], loss:0.0356\n",
            "average loss in epoch #29: 1.512414813041687\n",
            "epoch [30/100], loss:0.0357\n",
            "average loss in epoch #30: 1.5196486711502075\n",
            "epoch [31/100], loss:0.0345\n",
            "average loss in epoch #31: 1.4192681312561035\n",
            "epoch [32/100], loss:0.0344\n",
            "average loss in epoch #32: 1.4184650182724\n",
            "epoch [33/100], loss:0.0344\n",
            "average loss in epoch #33: 1.4187670946121216\n",
            "epoch [34/100], loss:0.0345\n",
            "average loss in epoch #34: 1.4225894212722778\n",
            "epoch [35/100], loss:0.0345\n",
            "average loss in epoch #35: 1.4252375364303589\n",
            "epoch [36/100], loss:0.0344\n",
            "average loss in epoch #36: 1.425088882446289\n",
            "epoch [37/100], loss:0.0344\n",
            "average loss in epoch #37: 1.4252092838287354\n",
            "epoch [38/100], loss:0.0344\n",
            "average loss in epoch #38: 1.4498600959777832\n",
            "epoch [39/100], loss:0.0345\n",
            "average loss in epoch #39: 1.4445898532867432\n",
            "epoch [40/100], loss:0.0345\n",
            "average loss in epoch #40: 1.4177614450454712\n",
            "epoch [41/100], loss:0.0345\n",
            "average loss in epoch #41: 1.4218597412109375\n",
            "epoch [42/100], loss:0.0345\n",
            "average loss in epoch #42: 1.4422073364257812\n",
            "epoch [43/100], loss:0.0345\n",
            "average loss in epoch #43: 1.4220144748687744\n",
            "epoch [44/100], loss:0.0344\n",
            "average loss in epoch #44: 1.4292994737625122\n",
            "epoch [45/100], loss:0.0345\n",
            "average loss in epoch #45: 1.4189289808273315\n",
            "epoch [46/100], loss:0.0345\n",
            "average loss in epoch #46: 1.421344518661499\n",
            "epoch [47/100], loss:0.0345\n",
            "average loss in epoch #47: 1.4370522499084473\n",
            "epoch [48/100], loss:0.0345\n",
            "average loss in epoch #48: 1.4195618629455566\n",
            "epoch [49/100], loss:0.0345\n",
            "average loss in epoch #49: 1.420967698097229\n",
            "epoch [50/100], loss:0.0345\n",
            "average loss in epoch #50: 1.4256900548934937\n",
            "epoch [51/100], loss:0.0345\n",
            "average loss in epoch #51: 1.420013666152954\n",
            "epoch [52/100], loss:0.0344\n",
            "average loss in epoch #52: 1.4261420965194702\n",
            "epoch [53/100], loss:0.0344\n",
            "average loss in epoch #53: 1.4240412712097168\n",
            "epoch [54/100], loss:0.0345\n",
            "average loss in epoch #54: 1.4265003204345703\n",
            "epoch [55/100], loss:0.0344\n",
            "average loss in epoch #55: 1.425445795059204\n",
            "epoch [56/100], loss:0.0345\n",
            "average loss in epoch #56: 1.4205187559127808\n",
            "epoch [57/100], loss:0.0344\n",
            "average loss in epoch #57: 1.420844554901123\n",
            "epoch [58/100], loss:0.0345\n",
            "average loss in epoch #58: 1.4191557168960571\n",
            "epoch [59/100], loss:0.0345\n",
            "average loss in epoch #59: 1.4307365417480469\n",
            "epoch [60/100], loss:0.0345\n",
            "average loss in epoch #60: 1.4219913482666016\n",
            "epoch [61/100], loss:0.0343\n",
            "average loss in epoch #61: 1.4169353246688843\n",
            "epoch [62/100], loss:0.0343\n",
            "average loss in epoch #62: 1.4168912172317505\n",
            "epoch [63/100], loss:0.0343\n",
            "average loss in epoch #63: 1.4169150590896606\n",
            "epoch [64/100], loss:0.0343\n",
            "average loss in epoch #64: 1.4182629585266113\n",
            "epoch [65/100], loss:0.0343\n",
            "average loss in epoch #65: 1.4162625074386597\n",
            "epoch [66/100], loss:0.0343\n",
            "average loss in epoch #66: 1.4174296855926514\n",
            "epoch [67/100], loss:0.0343\n",
            "average loss in epoch #67: 1.417810320854187\n",
            "epoch [68/100], loss:0.0343\n",
            "average loss in epoch #68: 1.4165786504745483\n",
            "epoch [69/100], loss:0.0343\n",
            "average loss in epoch #69: 1.4165464639663696\n",
            "epoch [70/100], loss:0.0343\n",
            "average loss in epoch #70: 1.4163304567337036\n",
            "epoch [71/100], loss:0.0343\n",
            "average loss in epoch #71: 1.417541742324829\n",
            "epoch [72/100], loss:0.0343\n",
            "average loss in epoch #72: 1.4164202213287354\n",
            "epoch [73/100], loss:0.0343\n",
            "average loss in epoch #73: 1.4161673784255981\n",
            "epoch [74/100], loss:0.0343\n",
            "average loss in epoch #74: 1.416258692741394\n",
            "epoch [75/100], loss:0.0343\n",
            "average loss in epoch #75: 1.4167741537094116\n",
            "epoch [76/100], loss:0.0343\n",
            "average loss in epoch #76: 1.4171761274337769\n",
            "epoch [77/100], loss:0.0343\n",
            "average loss in epoch #77: 1.4177623987197876\n",
            "epoch [78/100], loss:0.0343\n",
            "average loss in epoch #78: 1.4167040586471558\n",
            "epoch [79/100], loss:0.0343\n",
            "average loss in epoch #79: 1.4168592691421509\n",
            "epoch [80/100], loss:0.0343\n",
            "average loss in epoch #80: 1.416400671005249\n",
            "epoch [81/100], loss:0.0343\n",
            "average loss in epoch #81: 1.4164180755615234\n",
            "epoch [82/100], loss:0.0343\n",
            "average loss in epoch #82: 1.4174631834030151\n",
            "epoch [83/100], loss:0.0343\n",
            "average loss in epoch #83: 1.4165321588516235\n",
            "epoch [84/100], loss:0.0343\n",
            "average loss in epoch #84: 1.416518211364746\n",
            "epoch [85/100], loss:0.0343\n",
            "average loss in epoch #85: 1.4163157939910889\n",
            "epoch [86/100], loss:0.0343\n",
            "average loss in epoch #86: 1.4166083335876465\n",
            "epoch [87/100], loss:0.0343\n",
            "average loss in epoch #87: 1.4174264669418335\n",
            "epoch [88/100], loss:0.0343\n",
            "average loss in epoch #88: 1.4165855646133423\n",
            "epoch [89/100], loss:0.0343\n",
            "average loss in epoch #89: 1.4167888164520264\n",
            "epoch [90/100], loss:0.0343\n",
            "average loss in epoch #90: 1.417476773262024\n",
            "epoch [91/100], loss:0.0343\n",
            "average loss in epoch #91: 1.41633141040802\n",
            "epoch [92/100], loss:0.0343\n",
            "average loss in epoch #92: 1.4162073135375977\n",
            "epoch [93/100], loss:0.0343\n",
            "average loss in epoch #93: 1.4161878824234009\n",
            "epoch [94/100], loss:0.0343\n",
            "average loss in epoch #94: 1.4161980152130127\n",
            "epoch [95/100], loss:0.0343\n",
            "average loss in epoch #95: 1.4162482023239136\n",
            "epoch [96/100], loss:0.0343\n",
            "average loss in epoch #96: 1.4162566661834717\n",
            "epoch [97/100], loss:0.0343\n",
            "average loss in epoch #97: 1.4161735773086548\n",
            "epoch [98/100], loss:0.0343\n",
            "average loss in epoch #98: 1.4162558317184448\n",
            "epoch [99/100], loss:0.0343\n",
            "average loss in epoch #99: 1.4162890911102295\n",
            "epoch [100/100], loss:0.0343\n",
            "average loss in epoch #99: 1.4162830114364624\n"
          ]
        }
      ],
      "source": [
        "class FeedForward(nn.Module):\n",
        "    def __init__(self, input_size = 13, output_size = 4):\n",
        "        super().__init__()\n",
        "        self.feedfwd_stack = nn.Sequential(\n",
        "            nn.Linear(input_size, 64),\n",
        "            nn.Linear(64, output_size)\n",
        "        )\n",
        "    def forward(self, x):\n",
        "        logits = self.feedfwd_stack(x)\n",
        "        return logits\n",
        "model_FF = FeedForward()\n",
        "\n",
        "# optimizer = torch.optim.SGD(model.parameters(), lr=learning_rate, momentum = 0.9, weight_decay=1e-5)\n",
        "optimizer = torch.optim.AdamW(model_FF.parameters(), lr=learning_rate, weight_decay=1e-4)\n",
        "\n",
        "\n",
        "criterion = nn.MSELoss()\n",
        "scheduler = torch.optim.lr_scheduler.StepLR(optimizer, step_size=30, gamma=0.1)\n",
        "FF_accuracy_array = np.zeros(num_epochs)\n",
        "\n",
        "def test_generalization(epoch):\n",
        "    #Before training and at every stage of training\n",
        "    total_loss = []\n",
        "    with torch.no_grad():\n",
        "      for data in test_dataloader:\n",
        "        input_data, output_data = data\n",
        "\n",
        "        output_pred = model_FF(input_data)\n",
        "        loss = criterion(output_pred, output_data)\n",
        "\n",
        "        total_loss.append(loss)\n",
        "\n",
        "\n",
        "    average_loss = sum(total_loss) / len(total_loss)\n",
        "    print(f\"average loss in epoch #{epoch}: {average_loss * 100}\")\n",
        "    FF_accuracy_array[epoch] = average_loss * 100\n",
        "\n",
        "\n",
        "# gradients_by_epoch = {param: [] for param in model_FF.parameters()}\n",
        "\n",
        "loss_values = []\n",
        "\n",
        "def train_feedfwd():\n",
        "  #train:\n",
        "  for epoch in range(num_epochs):\n",
        "\n",
        "    # test before training starts and at every epoch\n",
        "    test_generalization(epoch)\n",
        "\n",
        "\n",
        "\n",
        "    #train over epochs\n",
        "    total_loss = 0\n",
        "    for data in train_dataloader:\n",
        "        input_data, output_data = data\n",
        "\n",
        "        output_pred = model_FF(input_data)\n",
        "        loss = criterion(output_pred, output_data)\n",
        "\n",
        "        optimizer.zero_grad()\n",
        "        loss.backward()\n",
        "\n",
        "        # for param in model_FF.parameters():\n",
        "        #     gradients_by_epoch[param].append(param.grad.clone().detach())\n",
        "\n",
        "        optimizer.step()\n",
        "\n",
        "        # for param in model_FF.parameters():\n",
        "        #     param.grad = None\n",
        "\n",
        "\n",
        "\n",
        "#       optimizer.step()\n",
        "\n",
        "\n",
        "\n",
        "        total_loss += loss.data\n",
        "    scheduler.step()\n",
        "    print('epoch [{}/{}], loss:{:.4f}'\n",
        "          .format(epoch+1, num_epochs, total_loss/12995*100))\n",
        "    loss_values.append(total_loss/12995*100)\n",
        "\n",
        "  test_generalization(epoch) #after final training\n",
        "\n",
        "train_feedfwd()"
      ]
    },
    {
      "cell_type": "code",
      "execution_count": 37,
      "metadata": {
        "colab": {
          "base_uri": "https://localhost:8080/",
          "height": 472
        },
        "id": "34sKC-GyWCBn",
        "outputId": "72ef2447-de53-4cd9-f015-7212ead40c12"
      },
      "outputs": [
        {
          "data": {
            "image/png": "[encoded data removed]",
            "text/plain": [
              "<Figure size 640x480 with 1 Axes>"
            ]
          },
          "metadata": {},
          "output_type": "display_data"
        }
      ],
      "source": [
        "# Plot avg error over epochs\n",
        "x = np.arange(1,num_epochs+1 , dtype = int)\n",
        "fig, ax = plt.subplots()\n",
        "plt.plot(x, FF_accuracy_array.T)\n",
        "ax.set_xlabel('Epoch')\n",
        "ax.set_ylabel('Accuracy %')\n",
        "ax.set_title('FF Test Loss Over Time')\n",
        "plt.show()"
      ]
    },
    {
      "cell_type": "code",
      "execution_count": 38,
      "metadata": {
        "id": "G0ApMOCcWul_"
      },
      "outputs": [
        {
          "name": "stdout",
          "output_type": "stream",
          "text": [
            "Saved to holybro_ff.pt because sim is False\n"
          ]
        }
      ],
      "source": [
        "PATH = 'sim_ff.pt' if sim else \"holybro_ff.pt\"\n",
        "torch.save(model_FF.state_dict(), PATH)\n",
        "print(f\"Saved to {'sim_ff.pt' if sim else 'holybro_ff.pt'} because sim is {sim}\")"
      ]
    },
    {
      "cell_type": "markdown",
      "metadata": {},
      "source": [
        "### LSTM"
      ]
    },
    {
      "cell_type": "code",
      "execution_count": null,
      "metadata": {},
      "outputs": [],
      "source": [
        "class LSTMModel(nn.Module):\n",
        "    def __init__(self, input_size=13, hidden_size=64, num_layers=5, output_size=4):\n",
        "        super().__init__()\n",
        "        self.lstm = nn.LSTM(input_size, hidden_size, num_layers, batch_first=True)\n",
        "        self.fc = nn.Linear(hidden_size, output_size)\n",
        "\n",
        "    def forward(self, x):\n",
        "        out, _ = self.lstm(x)\n",
        "        return self.fc(out)"
      ]
    },
    {
      "cell_type": "code",
      "execution_count": null,
      "metadata": {},
      "outputs": [],
      "source": [
        "# model = FeedForward()\n",
        "modelLSTM = LSTMModel()\n",
        "\n",
        "# optimizer = torch.optim.SGD(modelLSTM.parameters(), lr=learning_rate, momentum = 0.9, weight_decay=1e-5)\n",
        "optimizer = torch.optim.AdamW(modelLSTM.parameters(), lr=learning_rate, weight_decay=1e-4)\n",
        "\n",
        "\n",
        "criterion = nn.MSELoss()\n",
        "scheduler = torch.optim.lr_scheduler.StepLR(optimizer, step_size=30, gamma=0.1)\n",
        "LSTM_accuracy_array = np.zeros(num_epochs)"
      ]
    },
    {
      "cell_type": "code",
      "execution_count": null,
      "metadata": {},
      "outputs": [],
      "source": [
        "def test_generalization(epoch):\n",
        "    #Before training and at every stage of training\n",
        "    total_loss = []\n",
        "    with torch.no_grad():\n",
        "      for data in test_dataloader:\n",
        "        input_data, output_data = data\n",
        "\n",
        "        output_pred = modelLSTM(input_data)\n",
        "        loss = criterion(output_pred, output_data)\n",
        "\n",
        "        total_loss.append(loss)\n",
        "\n",
        "\n",
        "    average_loss = sum(total_loss) / len(total_loss)\n",
        "    print(f\"average loss in epoch #{epoch}: {average_loss * 100}\")\n",
        "    LSTM_accuracy_array[epoch] = average_loss * 100\n",
        "\n",
        "\n",
        "loss_values = []\n",
        "\n",
        "def train_LSTM():\n",
        "  #train:\n",
        "  for epoch in range(num_epochs):\n",
        "\n",
        "    # test before training starts and at every epoch\n",
        "    test_generalization(epoch)\n",
        "\n",
        "\n",
        "\n",
        "    #train over epochs\n",
        "    total_loss = 0\n",
        "    for data in train_dataloader:\n",
        "        input_data, output_data = data\n",
        "\n",
        "        output_pred = modelLSTM(input_data)\n",
        "        loss = criterion(output_pred, output_data)\n",
        "\n",
        "        optimizer.zero_grad()\n",
        "        loss.backward()\n",
        "\n",
        "        # for param in modelLSTM.parameters():\n",
        "        #     gradients_by_epoch[param].append(param.grad.clone().detach())\n",
        "\n",
        "        optimizer.step()\n",
        "\n",
        "        # for param in modelLSTM.parameters():\n",
        "        #     param.grad = None\n",
        "\n",
        "\n",
        "\n",
        "#       optimizer.step()\n",
        "\n",
        "\n",
        "\n",
        "        total_loss += loss.data\n",
        "    scheduler.step()\n",
        "    print('epoch [{}/{}], loss:{:.4f}'\n",
        "          .format(epoch+1, num_epochs, total_loss/12995*100))\n",
        "    loss_values.append(total_loss/12995*100)\n",
        "\n",
        "  test_generalization(epoch) #after final training\n"
      ]
    },
    {
      "cell_type": "code",
      "execution_count": null,
      "metadata": {},
      "outputs": [
        {
          "name": "stdout",
          "output_type": "stream",
          "text": [
            "average loss in epoch #0: 237.19927978515625\n",
            "epoch [1/50], loss:4.5468\n",
            "average loss in epoch #1: 145.5689239501953\n",
            "epoch [2/50], loss:2.4372\n",
            "average loss in epoch #2: 61.55756759643555\n",
            "epoch [3/50], loss:0.5135\n",
            "average loss in epoch #3: 6.690193176269531\n",
            "epoch [4/50], loss:0.1539\n",
            "average loss in epoch #4: 5.820988655090332\n",
            "epoch [5/50], loss:0.1380\n",
            "average loss in epoch #5: 5.6666579246521\n",
            "epoch [6/50], loss:0.1345\n",
            "average loss in epoch #6: 5.585153579711914\n",
            "epoch [7/50], loss:0.1295\n",
            "average loss in epoch #7: 5.232721328735352\n",
            "epoch [8/50], loss:0.1265\n",
            "average loss in epoch #8: 5.072952747344971\n",
            "epoch [9/50], loss:0.1250\n",
            "average loss in epoch #9: 5.45939826965332\n",
            "epoch [10/50], loss:0.1232\n",
            "average loss in epoch #10: 5.143733501434326\n",
            "epoch [11/50], loss:0.1217\n",
            "average loss in epoch #11: 5.009350299835205\n",
            "epoch [12/50], loss:0.1215\n",
            "average loss in epoch #12: 5.2815961837768555\n",
            "epoch [13/50], loss:0.1203\n",
            "average loss in epoch #13: 4.905193328857422\n"
          ]
        },
        {
          "ename": "KeyboardInterrupt",
          "evalue": "",
          "output_type": "error",
          "traceback": [
            "\u001b[0;31m---------------------------------------------------------------------------\u001b[0m",
            "\u001b[0;31mKeyboardInterrupt\u001b[0m                         Traceback (most recent call last)",
            "\u001b[1;32m/home/factslabegmc/NRJournal/src/newton_raphson/newton_raphson/generate_data_and_trainNNs.ipynb Cell 31\u001b[0m line \u001b[0;36m1\n\u001b[0;32m----> <a href='vscode-notebook-cell:/home/factslabegmc/NRJournal/src/newton_raphson/newton_raphson/generate_data_and_trainNNs.ipynb#X51sZmlsZQ%3D%3D?line=0'>1</a>\u001b[0m train_LSTM()\n",
            "\u001b[1;32m/home/factslabegmc/NRJournal/src/newton_raphson/newton_raphson/generate_data_and_trainNNs.ipynb Cell 31\u001b[0m line \u001b[0;36m3\n\u001b[1;32m     <a href='vscode-notebook-cell:/home/factslabegmc/NRJournal/src/newton_raphson/newton_raphson/generate_data_and_trainNNs.ipynb#X51sZmlsZQ%3D%3D?line=31'>32</a>\u001b[0m \u001b[39mfor\u001b[39;00m data \u001b[39min\u001b[39;00m train_dataloader:\n\u001b[1;32m     <a href='vscode-notebook-cell:/home/factslabegmc/NRJournal/src/newton_raphson/newton_raphson/generate_data_and_trainNNs.ipynb#X51sZmlsZQ%3D%3D?line=32'>33</a>\u001b[0m     input_data, output_data \u001b[39m=\u001b[39m data\n\u001b[0;32m---> <a href='vscode-notebook-cell:/home/factslabegmc/NRJournal/src/newton_raphson/newton_raphson/generate_data_and_trainNNs.ipynb#X51sZmlsZQ%3D%3D?line=34'>35</a>\u001b[0m     output_pred \u001b[39m=\u001b[39m modelLSTM(input_data)\n\u001b[1;32m     <a href='vscode-notebook-cell:/home/factslabegmc/NRJournal/src/newton_raphson/newton_raphson/generate_data_and_trainNNs.ipynb#X51sZmlsZQ%3D%3D?line=35'>36</a>\u001b[0m     loss \u001b[39m=\u001b[39m criterion(output_pred, output_data)\n\u001b[1;32m     <a href='vscode-notebook-cell:/home/factslabegmc/NRJournal/src/newton_raphson/newton_raphson/generate_data_and_trainNNs.ipynb#X51sZmlsZQ%3D%3D?line=37'>38</a>\u001b[0m     optimizer\u001b[39m.\u001b[39mzero_grad()\n",
            "File \u001b[0;32m~/miniconda3/envs/wardiNN/lib/python3.8/site-packages/torch/nn/modules/module.py:1501\u001b[0m, in \u001b[0;36mModule._call_impl\u001b[0;34m(self, *args, **kwargs)\u001b[0m\n\u001b[1;32m   1496\u001b[0m \u001b[39m# If we don't have any hooks, we want to skip the rest of the logic in\u001b[39;00m\n\u001b[1;32m   1497\u001b[0m \u001b[39m# this function, and just call forward.\u001b[39;00m\n\u001b[1;32m   1498\u001b[0m \u001b[39mif\u001b[39;00m \u001b[39mnot\u001b[39;00m (\u001b[39mself\u001b[39m\u001b[39m.\u001b[39m_backward_hooks \u001b[39mor\u001b[39;00m \u001b[39mself\u001b[39m\u001b[39m.\u001b[39m_backward_pre_hooks \u001b[39mor\u001b[39;00m \u001b[39mself\u001b[39m\u001b[39m.\u001b[39m_forward_hooks \u001b[39mor\u001b[39;00m \u001b[39mself\u001b[39m\u001b[39m.\u001b[39m_forward_pre_hooks\n\u001b[1;32m   1499\u001b[0m         \u001b[39mor\u001b[39;00m _global_backward_pre_hooks \u001b[39mor\u001b[39;00m _global_backward_hooks\n\u001b[1;32m   1500\u001b[0m         \u001b[39mor\u001b[39;00m _global_forward_hooks \u001b[39mor\u001b[39;00m _global_forward_pre_hooks):\n\u001b[0;32m-> 1501\u001b[0m     \u001b[39mreturn\u001b[39;00m forward_call(\u001b[39m*\u001b[39;49margs, \u001b[39m*\u001b[39;49m\u001b[39m*\u001b[39;49mkwargs)\n\u001b[1;32m   1502\u001b[0m \u001b[39m# Do not call functions when jit is used\u001b[39;00m\n\u001b[1;32m   1503\u001b[0m full_backward_hooks, non_full_backward_hooks \u001b[39m=\u001b[39m [], []\n",
            "\u001b[1;32m/home/factslabegmc/NRJournal/src/newton_raphson/newton_raphson/generate_data_and_trainNNs.ipynb Cell 31\u001b[0m line \u001b[0;36m8\n\u001b[1;32m      <a href='vscode-notebook-cell:/home/factslabegmc/NRJournal/src/newton_raphson/newton_raphson/generate_data_and_trainNNs.ipynb#X51sZmlsZQ%3D%3D?line=6'>7</a>\u001b[0m \u001b[39mdef\u001b[39;00m \u001b[39mforward\u001b[39m(\u001b[39mself\u001b[39m, x):\n\u001b[0;32m----> <a href='vscode-notebook-cell:/home/factslabegmc/NRJournal/src/newton_raphson/newton_raphson/generate_data_and_trainNNs.ipynb#X51sZmlsZQ%3D%3D?line=7'>8</a>\u001b[0m     out, _ \u001b[39m=\u001b[39m \u001b[39mself\u001b[39;49m\u001b[39m.\u001b[39;49mlstm(x)\n\u001b[1;32m      <a href='vscode-notebook-cell:/home/factslabegmc/NRJournal/src/newton_raphson/newton_raphson/generate_data_and_trainNNs.ipynb#X51sZmlsZQ%3D%3D?line=8'>9</a>\u001b[0m     \u001b[39mreturn\u001b[39;00m \u001b[39mself\u001b[39m\u001b[39m.\u001b[39mfc(out)\n",
            "File \u001b[0;32m~/miniconda3/envs/wardiNN/lib/python3.8/site-packages/torch/nn/modules/module.py:1501\u001b[0m, in \u001b[0;36mModule._call_impl\u001b[0;34m(self, *args, **kwargs)\u001b[0m\n\u001b[1;32m   1496\u001b[0m \u001b[39m# If we don't have any hooks, we want to skip the rest of the logic in\u001b[39;00m\n\u001b[1;32m   1497\u001b[0m \u001b[39m# this function, and just call forward.\u001b[39;00m\n\u001b[1;32m   1498\u001b[0m \u001b[39mif\u001b[39;00m \u001b[39mnot\u001b[39;00m (\u001b[39mself\u001b[39m\u001b[39m.\u001b[39m_backward_hooks \u001b[39mor\u001b[39;00m \u001b[39mself\u001b[39m\u001b[39m.\u001b[39m_backward_pre_hooks \u001b[39mor\u001b[39;00m \u001b[39mself\u001b[39m\u001b[39m.\u001b[39m_forward_hooks \u001b[39mor\u001b[39;00m \u001b[39mself\u001b[39m\u001b[39m.\u001b[39m_forward_pre_hooks\n\u001b[1;32m   1499\u001b[0m         \u001b[39mor\u001b[39;00m _global_backward_pre_hooks \u001b[39mor\u001b[39;00m _global_backward_hooks\n\u001b[1;32m   1500\u001b[0m         \u001b[39mor\u001b[39;00m _global_forward_hooks \u001b[39mor\u001b[39;00m _global_forward_pre_hooks):\n\u001b[0;32m-> 1501\u001b[0m     \u001b[39mreturn\u001b[39;00m forward_call(\u001b[39m*\u001b[39;49margs, \u001b[39m*\u001b[39;49m\u001b[39m*\u001b[39;49mkwargs)\n\u001b[1;32m   1502\u001b[0m \u001b[39m# Do not call functions when jit is used\u001b[39;00m\n\u001b[1;32m   1503\u001b[0m full_backward_hooks, non_full_backward_hooks \u001b[39m=\u001b[39m [], []\n",
            "File \u001b[0;32m~/miniconda3/envs/wardiNN/lib/python3.8/site-packages/torch/nn/modules/rnn.py:812\u001b[0m, in \u001b[0;36mLSTM.forward\u001b[0;34m(self, input, hx)\u001b[0m\n\u001b[1;32m    810\u001b[0m \u001b[39mself\u001b[39m\u001b[39m.\u001b[39mcheck_forward_args(\u001b[39minput\u001b[39m, hx, batch_sizes)\n\u001b[1;32m    811\u001b[0m \u001b[39mif\u001b[39;00m batch_sizes \u001b[39mis\u001b[39;00m \u001b[39mNone\u001b[39;00m:\n\u001b[0;32m--> 812\u001b[0m     result \u001b[39m=\u001b[39m _VF\u001b[39m.\u001b[39;49mlstm(\u001b[39minput\u001b[39;49m, hx, \u001b[39mself\u001b[39;49m\u001b[39m.\u001b[39;49m_flat_weights, \u001b[39mself\u001b[39;49m\u001b[39m.\u001b[39;49mbias, \u001b[39mself\u001b[39;49m\u001b[39m.\u001b[39;49mnum_layers,\n\u001b[1;32m    813\u001b[0m                       \u001b[39mself\u001b[39;49m\u001b[39m.\u001b[39;49mdropout, \u001b[39mself\u001b[39;49m\u001b[39m.\u001b[39;49mtraining, \u001b[39mself\u001b[39;49m\u001b[39m.\u001b[39;49mbidirectional, \u001b[39mself\u001b[39;49m\u001b[39m.\u001b[39;49mbatch_first)\n\u001b[1;32m    814\u001b[0m \u001b[39melse\u001b[39;00m:\n\u001b[1;32m    815\u001b[0m     result \u001b[39m=\u001b[39m _VF\u001b[39m.\u001b[39mlstm(\u001b[39minput\u001b[39m, batch_sizes, hx, \u001b[39mself\u001b[39m\u001b[39m.\u001b[39m_flat_weights, \u001b[39mself\u001b[39m\u001b[39m.\u001b[39mbias,\n\u001b[1;32m    816\u001b[0m                       \u001b[39mself\u001b[39m\u001b[39m.\u001b[39mnum_layers, \u001b[39mself\u001b[39m\u001b[39m.\u001b[39mdropout, \u001b[39mself\u001b[39m\u001b[39m.\u001b[39mtraining, \u001b[39mself\u001b[39m\u001b[39m.\u001b[39mbidirectional)\n",
            "\u001b[0;31mKeyboardInterrupt\u001b[0m: "
          ]
        }
      ],
      "source": [
        "train_LSTM()"
      ]
    },
    {
      "cell_type": "code",
      "execution_count": null,
      "metadata": {},
      "outputs": [
        {
          "data": {
            "image/png": "[encoded data removed]",
            "text/plain": [
              "<Figure size 640x480 with 1 Axes>"
            ]
          },
          "metadata": {},
          "output_type": "display_data"
        }
      ],
      "source": [
        "# Plot avg error over epochs\n",
        "x = np.arange(1,num_epochs+1 , dtype = int)\n",
        "fig, ax = plt.subplots()\n",
        "plt.plot(x, LSTM_accuracy_array.T)\n",
        "ax.set_xlabel('Epoch')\n",
        "ax.set_ylabel('Accuracy %')\n",
        "ax.set_title('LSTM Accuracy Test Accuracy Over Time')\n",
        "plt.show()"
      ]
    },
    {
      "cell_type": "code",
      "execution_count": null,
      "metadata": {},
      "outputs": [],
      "source": [
        "PATH = \"holybro_lstm.pt\"\n",
        "torch.save(modelLSTM.state_dict(), PATH)"
      ]
    },
    {
      "cell_type": "markdown",
      "metadata": {},
      "source": [
        "### RNN"
      ]
    },
    {
      "cell_type": "code",
      "execution_count": null,
      "metadata": {},
      "outputs": [],
      "source": [
        "# Define the RNN model class\n",
        "num_epochs = 50\n",
        "class RNNModel(nn.Module):\n",
        "    def __init__(self, input_size, hidden_size, num_layers, output_size):\n",
        "        super(RNNModel, self).__init__()\n",
        "#         super(RNNModel, self).__init()\n",
        "        self.hidden_size = hidden_size\n",
        "        self.num_layers = num_layers\n",
        "        self.output_size = output_size\n",
        "\n",
        "        # Define the RNN layer\n",
        "        self.rnn = nn.RNN(input_size, hidden_size, num_layers, batch_first=True)\n",
        "\n",
        "        # Define the output layer\n",
        "        self.fc = nn.Linear(hidden_size, output_size)\n",
        "\n",
        "    def forward(self, x):\n",
        "        # Initialize hidden state with zeros\n",
        "        h0 = torch.zeros(self.num_layers, x.size(0), self.hidden_size)\n",
        "\n",
        "        # print(f\"self.num_layers: {self.num_layers}\")\n",
        "        # print(f\"x.size(0): {x.size(0)}\")\n",
        "        # print(f\"self.hidden_size: {self.hidden_size}\")\n",
        "        out, _ = self.rnn(x, h0)\n",
        "\n",
        "        # print(f\"out.shape: {out.shape}\")\n",
        "\n",
        "        out = self.fc(out[-1, :, :])\n",
        "        # print(f\"out.shape: {out.shape}\")\n",
        "        # quit()\n",
        "        return out\n",
        "\n"
      ]
    },
    {
      "cell_type": "code",
      "execution_count": null,
      "metadata": {},
      "outputs": [],
      "source": [
        "# Set the input size, hidden size, number of layers, and output size\n",
        "input_size = 13  # Example input size (adjust as needed)\n",
        "hidden_size = 4  # Number of units in the hidden state\n",
        "num_layers = 8  # Number of RNN layers\n",
        "output_size = 4  # Example output size (adjust as needed)\n",
        "\n",
        "# Create the RNN model\n",
        "modelRNN = RNNModel(input_size, hidden_size, num_layers, output_size)\n",
        "\n",
        "# Define the loss function and optimizer\n",
        "criterion = nn.MSELoss()\n",
        "optimizer = torch.optim.AdamW(modelRNN.parameters(), lr=0.005)\n",
        "# optimizer = torch.optim.SGD(modelRNN.parameters(), lr=learning_rate, momentum = 0.9, weight_decay=1e-5)\n",
        "\n",
        "scheduler = torch.optim.lr_scheduler.StepLR(optimizer, step_size=30, gamma=0.1)\n",
        "RNN_accuracy_array = np.zeros(num_epochs)\n"
      ]
    },
    {
      "cell_type": "code",
      "execution_count": null,
      "metadata": {},
      "outputs": [],
      "source": [
        "def test_generalization(epoch):\n",
        "    #Before training and at every stage of training\n",
        "    total_loss = []\n",
        "    with torch.no_grad():\n",
        "      for data in test_dataloader:\n",
        "        input_data, output_data = data\n",
        "\n",
        "\n",
        "        # Add a batch dimension if necessary\n",
        "        if input_data.dim() == 2:\n",
        "            input_data = input_data.unsqueeze(0)\n",
        "\n",
        "        output_pred = modelRNN(input_data)\n",
        "        loss = criterion(output_pred, output_data)\n",
        "\n",
        "        total_loss.append(loss)\n",
        "\n",
        "\n",
        "    average_loss = sum(total_loss) / len(total_loss)\n",
        "    print(f\"average test error in epoch #{epoch}: {average_loss * 100}%\")\n",
        "    RNN_accuracy_array[epoch] = average_loss * 100\n",
        "\n",
        "\n",
        "\n",
        "loss_values = []\n",
        "\n",
        "def train_RNN():\n",
        "  #train:\n",
        "  for epoch in range(num_epochs):\n",
        "\n",
        "    # test before training starts and at every epoch\n",
        "    test_generalization(epoch)\n",
        "\n",
        "\n",
        "\n",
        "    #train over epochs\n",
        "    total_loss = 0\n",
        "    for data in train_dataloader:\n",
        "        input_data, output_data = data\n",
        "\n",
        "\n",
        "        # Add a batch dimension if necessary\n",
        "        if input_data.dim() == 2:\n",
        "            input_data = input_data.unsqueeze(0)\n",
        "        output_pred = modelRNN(input_data)\n",
        "        loss = criterion(output_pred, output_data)\n",
        "\n",
        "        optimizer.zero_grad()\n",
        "        loss.backward()\n",
        "\n",
        "        # for param in modelRNN.parameters():\n",
        "        #     gradients_by_epoch[param].append(param.grad.clone().detach())\n",
        "\n",
        "        optimizer.step()\n",
        "\n",
        "        # for param in modelRNN.parameters():\n",
        "        #     param.grad = None\n",
        "\n",
        "\n",
        "\n",
        "#       optimizer.step()\n",
        "\n",
        "\n",
        "\n",
        "        total_loss += loss.data\n",
        "    scheduler.step()\n",
        "    print('epoch [{}/{}], loss:{:.4f}'\n",
        "          .format(epoch+1, num_epochs, total_loss/12995*100))\n",
        "    loss_values.append(total_loss/12995*100)\n",
        "\n",
        "  test_generalization(epoch) #after final training\n"
      ]
    },
    {
      "cell_type": "code",
      "execution_count": null,
      "metadata": {},
      "outputs": [
        {
          "name": "stdout",
          "output_type": "stream",
          "text": [
            "average test error in epoch #0: 254.60426330566406%\n",
            "epoch [1/50], loss:4.0289\n",
            "average test error in epoch #1: 137.67124938964844%\n",
            "epoch [2/50], loss:2.8302\n",
            "average test error in epoch #2: 81.06857299804688%\n",
            "epoch [3/50], loss:1.6348\n",
            "average test error in epoch #3: 60.07935333251953%\n",
            "epoch [4/50], loss:1.3672\n",
            "average test error in epoch #4: 56.19047927856445%\n",
            "epoch [5/50], loss:1.2938\n",
            "average test error in epoch #5: 53.27189636230469%\n",
            "epoch [6/50], loss:1.2342\n",
            "average test error in epoch #6: 50.5198974609375%\n",
            "epoch [7/50], loss:1.1964\n",
            "average test error in epoch #7: 51.494102478027344%\n",
            "epoch [8/50], loss:1.1694\n",
            "average test error in epoch #8: 48.17242431640625%\n",
            "epoch [9/50], loss:1.1437\n",
            "average test error in epoch #9: 48.737022399902344%\n",
            "epoch [10/50], loss:1.1395\n",
            "average test error in epoch #10: 46.74382781982422%\n",
            "epoch [11/50], loss:1.1272\n",
            "average test error in epoch #11: 46.799354553222656%\n",
            "epoch [12/50], loss:1.1238\n",
            "average test error in epoch #12: 46.32181167602539%\n",
            "epoch [13/50], loss:1.1127\n",
            "average test error in epoch #13: 46.84686279296875%\n",
            "epoch [14/50], loss:1.0975\n",
            "average test error in epoch #14: 46.533817291259766%\n",
            "epoch [15/50], loss:1.1042\n",
            "average test error in epoch #15: 45.68748474121094%\n",
            "epoch [16/50], loss:1.0901\n",
            "average test error in epoch #16: 45.81132888793945%\n",
            "epoch [17/50], loss:1.0847\n",
            "average test error in epoch #17: 44.904483795166016%\n",
            "epoch [18/50], loss:1.0894\n",
            "average test error in epoch #18: 44.51927947998047%\n",
            "epoch [19/50], loss:1.0624\n",
            "average test error in epoch #19: 44.15800094604492%\n",
            "epoch [20/50], loss:1.0357\n",
            "average test error in epoch #20: 42.72043228149414%\n",
            "epoch [21/50], loss:1.0120\n",
            "average test error in epoch #21: 40.814292907714844%\n",
            "epoch [22/50], loss:0.9813\n",
            "average test error in epoch #22: 39.90790557861328%\n",
            "epoch [23/50], loss:0.8542\n",
            "average test error in epoch #23: 24.846111297607422%\n",
            "epoch [24/50], loss:0.3832\n",
            "average test error in epoch #24: 13.44487476348877%\n",
            "epoch [25/50], loss:0.2658\n",
            "average test error in epoch #25: 11.070444107055664%\n",
            "epoch [26/50], loss:0.2323\n",
            "average test error in epoch #26: 9.193647384643555%\n",
            "epoch [27/50], loss:0.2091\n",
            "average test error in epoch #27: 10.25435733795166%\n",
            "epoch [28/50], loss:0.2020\n",
            "average test error in epoch #28: 7.549230098724365%\n",
            "epoch [29/50], loss:0.1919\n",
            "average test error in epoch #29: 8.402097702026367%\n",
            "epoch [30/50], loss:0.1873\n",
            "average test error in epoch #30: 7.7281975746154785%\n",
            "epoch [31/50], loss:0.1693\n",
            "average test error in epoch #31: 6.9299774169921875%\n",
            "epoch [32/50], loss:0.1680\n",
            "average test error in epoch #32: 6.898655891418457%\n",
            "epoch [33/50], loss:0.1669\n",
            "average test error in epoch #33: 6.831915855407715%\n",
            "epoch [34/50], loss:0.1660\n",
            "average test error in epoch #34: 6.796267509460449%\n",
            "epoch [35/50], loss:0.1649\n",
            "average test error in epoch #35: 6.758453845977783%\n",
            "epoch [36/50], loss:0.1644\n",
            "average test error in epoch #36: 6.700168609619141%\n",
            "epoch [37/50], loss:0.1636\n",
            "average test error in epoch #37: 6.820976734161377%\n",
            "epoch [38/50], loss:0.1630\n",
            "average test error in epoch #38: 6.659502029418945%\n",
            "epoch [39/50], loss:0.1626\n",
            "average test error in epoch #39: 6.648455619812012%\n",
            "epoch [40/50], loss:0.1626\n",
            "average test error in epoch #40: 6.594367504119873%\n",
            "epoch [41/50], loss:0.1611\n",
            "average test error in epoch #41: 6.58330774307251%\n",
            "epoch [42/50], loss:0.1603\n",
            "average test error in epoch #42: 6.5752973556518555%\n",
            "epoch [43/50], loss:0.1598\n",
            "average test error in epoch #43: 6.524138927459717%\n",
            "epoch [44/50], loss:0.1599\n",
            "average test error in epoch #44: 6.5795183181762695%\n",
            "epoch [45/50], loss:0.1589\n",
            "average test error in epoch #45: 6.595003604888916%\n",
            "epoch [46/50], loss:0.1592\n",
            "average test error in epoch #46: 6.492972373962402%\n",
            "epoch [47/50], loss:0.1586\n",
            "average test error in epoch #47: 6.519134998321533%\n",
            "epoch [48/50], loss:0.1585\n",
            "average test error in epoch #48: 6.499516010284424%\n",
            "epoch [49/50], loss:0.1578\n",
            "average test error in epoch #49: 6.409373760223389%\n",
            "epoch [50/50], loss:0.1571\n",
            "average test error in epoch #49: 6.559453964233398%\n"
          ]
        }
      ],
      "source": [
        "train_RNN()"
      ]
    },
    {
      "cell_type": "code",
      "execution_count": null,
      "metadata": {},
      "outputs": [
        {
          "data": {
            "image/png": "[encoded data removed]",
            "text/plain": [
              "<Figure size 640x480 with 1 Axes>"
            ]
          },
          "metadata": {},
          "output_type": "display_data"
        }
      ],
      "source": [
        "# Plot avg error over epochs\n",
        "x = np.arange(1,num_epochs+1 , dtype = int)\n",
        "fig, ax = plt.subplots()\n",
        "plt.plot(x, RNN_accuracy_array.T)\n",
        "ax.set_xlabel('Epoch')\n",
        "ax.set_ylabel('Accuracy %')\n",
        "ax.set_title('RNN Accuracy Test Accuracy Over Time')\n",
        "plt.show()"
      ]
    },
    {
      "cell_type": "code",
      "execution_count": null,
      "metadata": {},
      "outputs": [],
      "source": [
        "PATH = \"holybro_rnn.pt\"\n",
        "torch.save(modelRNN.state_dict(), PATH)"
      ]
    },
    {
      "cell_type": "code",
      "execution_count": null,
      "metadata": {},
      "outputs": [
        {
          "data": {
            "image/png": "[encoded data removed]",
            "text/plain": [
              "<Figure size 1000x600 with 1 Axes>"
            ]
          },
          "metadata": {},
          "output_type": "display_data"
        }
      ],
      "source": [
        "# Create x-values (e.g., epochs)\n",
        "epochs = range(1, num_epochs + 1)\n",
        "\n",
        "# Plot the loss values for each model\n",
        "plt.figure(figsize=(10, 6))\n",
        "plt.plot(epochs, FF_accuracy_array, label='FF', marker='o')\n",
        "plt.plot(epochs, RNN_accuracy_array, label='RNN', marker='o')\n",
        "plt.plot(epochs, LSTM_accuracy_array, label='LSTM', marker='o')\n",
        "\n",
        "# Add labels and a legend\n",
        "plt.xlabel('Epochs')\n",
        "plt.ylabel('Loss')\n",
        "plt.title('Accuracy over Epochs Comparison for Three Models')\n",
        "plt.legend()\n",
        "\n",
        "# Show the plot\n",
        "plt.grid()\n",
        "plt.show()"
      ]
    },
    {
      "cell_type": "code",
      "execution_count": null,
      "metadata": {},
      "outputs": [],
      "source": []
    },
    {
      "cell_type": "code",
      "execution_count": null,
      "metadata": {},
      "outputs": [],
      "source": []
    },
    {
      "cell_type": "code",
      "execution_count": null,
      "metadata": {},
      "outputs": [],
      "source": []
    },
    {
      "cell_type": "code",
      "execution_count": null,
      "metadata": {},
      "outputs": [],
      "source": []
    }
  ],
  "metadata": {
    "colab": {
      "provenance": []
    },
    "kernelspec": {
      "display_name": "Python 3",
      "name": "python3"
    },
    "language_info": {
      "codemirror_mode": {
        "name": "ipython",
        "version": 3
      },
      "file_extension": ".py",
      "mimetype": "text/x-python",
      "name": "python",
      "nbconvert_exporter": "python",
      "pygments_lexer": "ipython3",
      "version": "3.8.10"
    }
  },
  "nbformat": 4,
  "nbformat_minor": 0
}
