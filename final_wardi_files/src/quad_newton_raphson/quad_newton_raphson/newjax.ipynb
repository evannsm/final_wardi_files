{
 "cells": [
  {
   "cell_type": "code",
   "execution_count": 1,
   "metadata": {},
   "outputs": [],
   "source": [
    "import jax\n",
    "import jax.numpy as jnp\n",
    "from jax import jit, jacfwd, lax\n",
    "import numpy as np"
   ]
  },
  {
   "cell_type": "code",
   "execution_count": 2,
   "metadata": {},
   "outputs": [],
   "source": [
    "@jit\n",
    "def dynamics_1order(state, input, input_derivs, g, m):\n",
    "    x, y, z, vx, vy, vz, roll, pitch, yaw, thrust, rolldot, pitchdot, yawdot = state\n",
    "    thrust_dot, roll_dd, pitch_dd, yaw_dd = input_derivs\n",
    "\n",
    "    sr = jnp.sin(roll)\n",
    "    sy = jnp.sin(yaw)\n",
    "    sp = jnp.sin(pitch)\n",
    "    cr = jnp.cos(roll)\n",
    "    cp = jnp.cos(pitch)\n",
    "    cy = jnp.cos(yaw)\n",
    "\n",
    "    # Update derivatives\n",
    "    vxdot = -(thrust / m) * (sr * sy + cr * cy * sp)\n",
    "    vydot = -(thrust / m) * (cr * sy * sp - cy * sr)\n",
    "    vzdot = g - (thrust / m) * (cr * cp)\n",
    "\n",
    "    return jnp.array([vx, vy, vz, vxdot, vydot, vzdot, rolldot, pitchdot, yawdot, thrust_dot, roll_dd, pitch_dd, yaw_dd])\n",
    "\n",
    "# Function to integrate dynamics over time\n",
    "@jit\n",
    "def integrate_dynamics_1order(state, inputs, input_derivs, integration_step, integrations_int, g, m):\n",
    "    def for_function(i, current_state):\n",
    "        return current_state + dynamics_1order(current_state, inputs, input_derivs, g, m) * integration_step\n",
    "\n",
    "    state = jnp.hstack([state, inputs])\n",
    "    pred_state = lax.fori_loop(0, integrations_int, for_function, state)\n",
    "    # print(f\"done: {pred_state= }\")\n",
    "    return pred_state\n",
    "\n",
    "# Prediction function 1st order\n",
    "@jit\n",
    "def predict_states_1order(state, last_input, input_derivs, T_lookahead, g, m, integration_step=0.1):\n",
    "    inputs = last_input.flatten()\n",
    "    integrations_int = 8  # Or another appropriate integer\n",
    "    pred_state = integrate_dynamics_1order(state, inputs, input_derivs, integration_step, integrations_int, g, m)\n",
    "    return pred_state[0:9]\n",
    "\n",
    "\n",
    "# Prediction function\n",
    "@jit\n",
    "def predict_outputs_1order(state, last_input, input_derivs, T_lookahead, g, m, C, integration_step=0.1):\n",
    "    inputs = last_input.flatten()\n",
    "    integrations_int = 8  # Or another appropriate integer\n",
    "    pred_state = integrate_dynamics_1order(state, inputs, input_derivs, integration_step, integrations_int, g, m)\n",
    "    return C@pred_state[0:9]\n",
    "\n",
    "\n",
    "# Compute Jacobian\n",
    "@jit\n",
    "def compute_jacobian_1order(state, last_input, input_derivs, T_lookahead, g, m, C, integration_step):\n",
    "    jac_fn = jacfwd(lambda x: predict_outputs_1order(state, x, input_derivs, T_lookahead, g, m, C, integration_step))\n",
    "    return jac_fn(last_input)\n",
    "\n",
    "# Compute adjusted inverse Jacobian\n",
    "@jit\n",
    "def compute_adjusted_invjac_1order(state, last_input, input_derivs, T_lookahead, g, m, C, integration_step):\n",
    "    jac = compute_jacobian_1order(state, last_input, input_derivs, T_lookahead, g, m, C, integration_step)\n",
    "    inv_jacobian = jnp.linalg.pinv(jac)\n",
    "    inv_jacobian_modified = inv_jacobian.at[:, 2].set(-inv_jacobian[:, 2])\n",
    "    return inv_jacobian_modified"
   ]
  },
  {
   "cell_type": "code",
   "execution_count": 3,
   "metadata": {},
   "outputs": [
    {
     "name": "stderr",
     "output_type": "stream",
     "text": [
      "No GPU/TPU found, falling back to CPU. (Set TF_CPP_MIN_LOG_LEVEL=0 and rerun for more info.)\n"
     ]
    }
   ],
   "source": [
    "# Define constants\n",
    "MASS = 1.535  # Mass of the object\n",
    "GRAVITY = 9.806  # Gravitational acceleration\n",
    "C = jnp.array([[1, 0, 0, 0, 0, 0, 0, 0, 0],\n",
    "               [0, 1, 0, 0, 0, 0, 0, 0, 0],\n",
    "               [0, 0, 1, 0, 0, 0, 0, 0, 0],\n",
    "               [0, 0, 0, 0, 0, 0, 0, 0, 1]])\n",
    "T_LOOKAHEAD = 0.8\n",
    "INITIAL_STATE = jnp.array([-0.06161616, 0.14445689, -0.00542868, \n",
    "                           -0.02907665, 0.05602227, 0.0983548, \n",
    "                            0.02056395, 0.02023059, 0.01487323])"
   ]
  },
  {
   "cell_type": "code",
   "execution_count": 4,
   "metadata": {},
   "outputs": [],
   "source": [
    "# Example usage\n",
    "last_input = jnp.array([15.052209999999999, 0.0, 0.0, 0.0])\n",
    "input_dervs = jnp.array([0.0, 0.0, 0.0, 0.0])"
   ]
  },
  {
   "cell_type": "code",
   "execution_count": 5,
   "metadata": {},
   "outputs": [
    {
     "data": {
      "text/plain": [
       "Array([-0.1412422 ,  0.24490063,  0.07439704,  0.01487323], dtype=float32)"
      ]
     },
     "execution_count": 5,
     "metadata": {},
     "output_type": "execute_result"
    }
   ],
   "source": [
    "outputs = predict_outputs_1order(INITIAL_STATE, last_input, input_dervs, T_LOOKAHEAD, GRAVITY, MASS, C, integration_step=0.1)\n",
    "outputs\n"
   ]
  },
  {
   "cell_type": "code",
   "execution_count": 7,
   "metadata": {},
   "outputs": [],
   "source": [
    "inv_jac = compute_adjusted_invjac_1order(INITIAL_STATE, last_input, input_dervs, T_LOOKAHEAD, GRAVITY, MASS, C, integration_step=0.1)"
   ]
  },
  {
   "cell_type": "code",
   "execution_count": 9,
   "metadata": {},
   "outputs": [
    {
     "name": "stdout",
     "output_type": "stream",
     "text": [
      "[[-1.12540476e-01  1.11065082e-01  5.47986317e+00  0.00000000e+00]\n",
      " [-2.63205767e-02  1.82046723e+00 -3.74374166e-02  2.52865143e-02]\n",
      " [-1.82085347e+00 -2.70842314e-02 -3.68456393e-02 -2.57033985e-02]\n",
      " [-1.10827386e-07 -1.02445483e-08 -6.98491931e-10  1.24999952e+00]]\n"
     ]
    }
   ],
   "source": [
    "print(inv_jac)"
   ]
  },
  {
   "cell_type": "code",
   "execution_count": null,
   "metadata": {},
   "outputs": [],
   "source": []
  }
 ],
 "metadata": {
  "kernelspec": {
   "display_name": "wardiNN",
   "language": "python",
   "name": "python3"
  },
  "language_info": {
   "codemirror_mode": {
    "name": "ipython",
    "version": 3
   },
   "file_extension": ".py",
   "mimetype": "text/x-python",
   "name": "python",
   "nbconvert_exporter": "python",
   "pygments_lexer": "ipython3",
   "version": "3.8.10"
  }
 },
 "nbformat": 4,
 "nbformat_minor": 2
}
