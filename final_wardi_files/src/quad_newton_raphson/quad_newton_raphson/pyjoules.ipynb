{
 "cells": [
  {
   "cell_type": "code",
   "execution_count": 9,
   "metadata": {},
   "outputs": [],
   "source": [
    "\n",
    "from pyJoules.handler.csv_handler import CSVHandler\n",
    "from pyJoules.device.rapl_device import RaplPackageDomain, RaplCoreDomain\n",
    "from pyJoules.energy_meter import EnergyContext"
   ]
  },
  {
   "cell_type": "code",
   "execution_count": 11,
   "metadata": {},
   "outputs": [],
   "source": [
    "csv_handler = CSVHandler('hi.csv')"
   ]
  },
  {
   "cell_type": "code",
   "execution_count": 14,
   "metadata": {},
   "outputs": [],
   "source": [
    "with EnergyContext(handler=csv_handler, domains=[RaplPackageDomain(0), RaplCoreDomain(0)]):\n",
    "    def foo():\n",
    "        x = 0\n",
    "        for i in range(100):\n",
    "            x += i*100\n",
    "foo()"
   ]
  },
  {
   "cell_type": "code",
   "execution_count": 15,
   "metadata": {},
   "outputs": [],
   "source": [
    "csv_handler.save_data()"
   ]
  },
  {
   "cell_type": "code",
   "execution_count": 17,
   "metadata": {},
   "outputs": [],
   "source": [
    "import pyJoules as pj"
   ]
  },
  {
   "cell_type": "code",
   "execution_count": 18,
   "metadata": {},
   "outputs": [],
   "source": [
    "import pyJoules"
   ]
  },
  {
   "cell_type": "code",
   "execution_count": 20,
   "metadata": {},
   "outputs": [
    {
     "ename": "AttributeError",
     "evalue": "module 'pyJoules' has no attribute 'available_devies'",
     "output_type": "error",
     "traceback": [
      "\u001b[0;31m---------------------------------------------------------------------------\u001b[0m",
      "\u001b[0;31mAttributeError\u001b[0m                            Traceback (most recent call last)",
      "\u001b[1;32m/home/factslabegmc/final_wardi_files/src/quad_newton_raphson/quad_newton_raphson/pyjoules.ipynb Cell 7\u001b[0m line \u001b[0;36m1\n\u001b[0;32m----> <a href='vscode-notebook-cell:/home/factslabegmc/final_wardi_files/src/quad_newton_raphson/quad_newton_raphson/pyjoules.ipynb#W6sZmlsZQ%3D%3D?line=0'>1</a>\u001b[0m pyJoules\u001b[39m.\u001b[39;49mavailable_devies()\n",
      "\u001b[0;31mAttributeError\u001b[0m: module 'pyJoules' has no attribute 'available_devies'"
     ]
    }
   ],
   "source": [
    "pyJoules.available_devies()"
   ]
  },
  {
   "cell_type": "code",
   "execution_count": null,
   "metadata": {},
   "outputs": [],
   "source": []
  }
 ],
 "metadata": {
  "kernelspec": {
   "display_name": "wardiNN",
   "language": "python",
   "name": "python3"
  },
  "language_info": {
   "codemirror_mode": {
    "name": "ipython",
    "version": 3
   },
   "file_extension": ".py",
   "mimetype": "text/x-python",
   "name": "python",
   "nbconvert_exporter": "python",
   "pygments_lexer": "ipython3",
   "version": "3.8.10"
  }
 },
 "nbformat": 4,
 "nbformat_minor": 2
}
