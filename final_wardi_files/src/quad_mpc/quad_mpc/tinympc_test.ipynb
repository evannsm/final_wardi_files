{
 "cells": [
  {
   "cell_type": "code",
   "execution_count": 1,
   "metadata": {},
   "outputs": [],
   "source": [
    "import autograd.numpy as agnp\n",
    "import autograd as AG\n",
    "import numpy as np\n",
    "import tinympc"
   ]
  },
  {
   "cell_type": "code",
   "execution_count": 2,
   "metadata": {},
   "outputs": [],
   "source": [
    "def hover_ref_func(num): #Returns Constant Hover Reference Trajectories At A Few Different Positions for Testing ([x,y,z,yaw])\n",
    "    \"\"\" Returns constant hover reference trajectories at a few different positions. \"\"\"\n",
    "    hover_dict = {\n",
    "        1: np.array([[0.0, 0.0, -0.6,     0.0, 0.0, 0.0,   0.0, 0.0, 0.0]]).T,\n",
    "        2: np.array([[0.0, 0.8, -0.8,     0.0, 0.0, 0.0,   0.0, 0.0, 0.0]]).T,\n",
    "        3: np.array([[0.8, 0.0, -0.8,     0.0, 0.0, 0.0,   0.0, 0.0, 0.0]]).T,\n",
    "        4: np.array([[0.8, 0.8, -0.8,     0.0, 0.0, 0.0,   0.0, 0.0, 0.0]]).T,\n",
    "        5: np.array([[0.0, 0.0, -10.0,    0.0, 0.0, 0.0,   0.0, 0.0, 0.0]]).T,\n",
    "        6: np.array([[1.0, 1.0, -4.0,     0.0, 0.0, 0.0,   0.0, 0.0, 0.0]]).T,\n",
    "        7: np.array([[3.0, 4.0, -5.0,     0.0, 0.0, 0.0,   0.0, 0.0, 0.0]]).T,\n",
    "        8: np.array([[1.0, 1.0, -3.0,     0.0, 0.0, 0.0,   0.0, 0.0, 0.0]]).T,\n",
    "    }\n",
    "        \n",
    "    print(f\"hover_dict #{num}\")\n",
    "    r = hover_dict.get(num)\n",
    "    r_final = np.tile(r, (1, N))\n",
    "    return r_final"
   ]
  },
  {
   "cell_type": "markdown",
   "metadata": {},
   "source": [
    "For quad"
   ]
  },
  {
   "cell_type": "code",
   "execution_count": 3,
   "metadata": {},
   "outputs": [],
   "source": [
    "# Parameters\n",
    "m = 2.1 # mass of the quad (kg)\n",
    "g = 9.806 # gravity (m/s^2)\n"
   ]
  },
  {
   "cell_type": "code",
   "execution_count": 4,
   "metadata": {},
   "outputs": [],
   "source": [
    "# Dynamics function\n",
    "def quad_dynamics(X, U):\n",
    "    \"\"\"Quadrotor Dynamics Function.\"\"\"\n",
    "    x,y,z,vx,vy,vz,roll,pitch,yaw = X\n",
    "    thrust, rolldot, pitchdot, yawdot = U\n",
    "\n",
    "    sr = agnp.sin(roll)\n",
    "    sy = agnp.sin(yaw)\n",
    "    sp = agnp.sin(pitch)\n",
    "    cr = agnp.cos(roll)\n",
    "    cp = agnp.cos(pitch)\n",
    "    cy = agnp.cos(yaw)\n",
    "\n",
    "    #define dynamics\n",
    "    pxdot = vx\n",
    "    pydot = vy\n",
    "    pzdot = vz\n",
    "    vxdot = -(thrust/m) * (sr*sy + cr*cy*sp)\n",
    "    vydot = -(thrust/m) * (cr*sy*sp - cy*sr)\n",
    "    vzdot = g - (thrust/m) * (cr*cp)\n",
    "    rolldot = rolldot\n",
    "    pitchdot = pitchdot\n",
    "    yawdot = yawdot\n",
    "\n",
    "    return agnp.array([pxdot, pydot, pzdot, vxdot, vydot, vzdot, rolldot, pitchdot, yawdot])\n",
    "\n",
    "# Runge-Kutta 4th order integration function\n",
    "def quad_rk4(x, u, dt=0.01):\n",
    "    f1 = dt * quad_dynamics(x, u)\n",
    "    f2 = dt * quad_dynamics(x + f1 / 2, u)\n",
    "    f3 = dt * quad_dynamics(x + f2 / 2, u)\n",
    "    \n",
    "    f4 = dt * quad_dynamics(x + f3, u)\n",
    "    return x + (1 / 6) * (f1 + 2 * f2 + 2 * f3 + f4)"
   ]
  },
  {
   "cell_type": "code",
   "execution_count": 5,
   "metadata": {},
   "outputs": [
    {
     "name": "stdout",
     "output_type": "stream",
     "text": [
      "AGA.shape= (9, 9)\n",
      "AGB.shape= (9, 4)\n"
     ]
    }
   ],
   "source": [
    "xgoal = agnp.array([0.0834213, 0.0323, -0.24,   0.00121, 0.0039234, 0.000324,   0.000432, 0.004032, 0.00043242])\n",
    "ugoal = agnp.array([-m*g, 0.335, 0.5435, 0.35])\n",
    "\n",
    "# Compute Jacobians\n",
    "AGA = AG.jacobian(lambda x_: quad_rk4(x_, ugoal))(xgoal)\n",
    "AGB = AG.jacobian(lambda u_: quad_rk4(xgoal, u_))(ugoal)\n",
    "print(f\"{AGA.shape= }\")\n",
    "print(f\"{AGB.shape= }\")"
   ]
  },
  {
   "cell_type": "code",
   "execution_count": 6,
   "metadata": {},
   "outputs": [],
   "source": [
    "Q = np.diag([1000.0, 1000.0, 1000.0, 10., 10., 10., 10., 10., 100.0]);\n",
    "R = np.diag([100.0]*4); # "
   ]
  },
  {
   "cell_type": "code",
   "execution_count": 7,
   "metadata": {},
   "outputs": [],
   "source": [
    "max_rate = 0.8\n",
    "min_thrust = 0.0\n",
    "max_thrust = 27.0\n",
    "u_min = np.array([min_thrust, -max_rate, -max_rate, -max_rate])\n",
    "u_max = np.array([max_thrust, max_rate, max_rate, max_rate])"
   ]
  },
  {
   "cell_type": "code",
   "execution_count": 8,
   "metadata": {},
   "outputs": [],
   "source": [
    "N = 20\n",
    "# Set up the problem\n",
    "prob = tinympc.TinyMPC()\n",
    "prob.setup(AGA, AGB, Q, R, N)"
   ]
  },
  {
   "cell_type": "code",
   "execution_count": 9,
   "metadata": {},
   "outputs": [
    {
     "name": "stdout",
     "output_type": "stream",
     "text": [
      "hover_dict #8\n"
     ]
    }
   ],
   "source": [
    "# Define initial condition\n",
    "x0 = np.array([0.5, 1.3, -0.7,   0, 0, 0,   0, 0, 0])\n",
    "reffunc = hover_ref_func(8)"
   ]
  },
  {
   "cell_type": "code",
   "execution_count": 10,
   "metadata": {},
   "outputs": [],
   "source": [
    "# Set the first state in the horizon\n",
    "prob.set_x0(x0)\n",
    "prob.set_x_ref(reffunc) # Set the goal position"
   ]
  },
  {
   "cell_type": "code",
   "execution_count": 11,
   "metadata": {},
   "outputs": [
    {
     "name": "stdout",
     "output_type": "stream",
     "text": [
      "[ 7.18601890e+00  9.33580703e-01  1.57120459e+00 -2.94656072e-03]\n"
     ]
    }
   ],
   "source": [
    "# Solve the problem\n",
    "solution = prob.solve()\n",
    "\n",
    "# Print the controls at the first time step\n",
    "print(solution[\"controls\"])"
   ]
  },
  {
   "cell_type": "code",
   "execution_count": 12,
   "metadata": {},
   "outputs": [
    {
     "data": {
      "text/plain": [
       "(4,)"
      ]
     },
     "execution_count": 12,
     "metadata": {},
     "output_type": "execute_result"
    }
   ],
   "source": [
    "solution['controls'].shape"
   ]
  },
  {
   "cell_type": "code",
   "execution_count": 83,
   "metadata": {},
   "outputs": [
    {
     "data": {
      "text/plain": [
       "(20, 9)"
      ]
     },
     "execution_count": 83,
     "metadata": {},
     "output_type": "execute_result"
    }
   ],
   "source": [
    "solution['states_all'].shape"
   ]
  },
  {
   "cell_type": "markdown",
   "metadata": {},
   "source": [
    "Compile in C"
   ]
  },
  {
   "cell_type": "code",
   "execution_count": 12,
   "metadata": {},
   "outputs": [
    {
     "name": "stdout",
     "output_type": "stream",
     "text": [
      "Data header generated in /home/factslabegmc/final_wardi_files/src/quad_mpc/quad_mpc/generated_code//tinympc/tiny_data.hpp\n",
      "Data generated in /home/factslabegmc/final_wardi_files/src/quad_mpc/quad_mpc/generated_code//src/tiny_data.cpp\n",
      "Example tinympc main generated in /home/factslabegmc/final_wardi_files/src/quad_mpc/quad_mpc/generated_code//src/tiny_main.cpp\n",
      "running build_ext\n",
      "-- The C compiler identification is GNU 9.4.0\n",
      "-- The CXX compiler identification is GNU 9.4.0\n",
      "-- Detecting C compiler ABI info\n",
      "-- Detecting C compiler ABI info - done\n",
      "-- Check for working C compiler: /usr/bin/cc - skipped\n",
      "-- Detecting C compile features\n",
      "-- Detecting C compile features - done\n",
      "-- Detecting CXX compiler ABI info\n",
      "-- Detecting CXX compiler ABI info - done\n",
      "-- Check for working CXX compiler: /usr/bin/c++ - skipped\n",
      "-- Detecting CXX compile features\n",
      "-- Detecting CXX compile features - done\n",
      "-- pybind11 v2.14.0 dev1\n",
      "-- Found PythonInterp: /home/factslabegmc/miniconda3/envs/wardiNN/bin/python (found suitable version \"3.8.10\", minimum required is \"3.8\") \n",
      "-- Found PythonLibs: /home/factslabegmc/miniconda3/envs/wardiNN/lib/libpython3.8.so\n",
      "-- Performing Test HAS_FLTO\n",
      "-- Performing Test HAS_FLTO - Success\n",
      "-- Configuring done (3.6s)\n",
      "-- Generating done (0.0s)\n",
      "-- Build files have been written to: /home/factslabegmc/final_wardi_files/src/quad_mpc/quad_mpc/generated_code/build/temp.linux-x86_64-3.8\n",
      "[  9%] \u001b[32mBuilding CXX object CMakeFiles/tinympcstatic.dir/tinympc/admm.cpp.o\u001b[0m\n",
      "[ 18%] \u001b[32mBuilding CXX object CMakeFiles/tinympcstatic.dir/tinympc/tiny_api.cpp.o\u001b[0m\n",
      "[ 27%] \u001b[32m\u001b[1mLinking CXX static library libtinympcstatic.a\u001b[0m\n",
      "[ 27%] Built target tinympcstatic\n",
      "[ 36%] \u001b[32mBuilding CXX object CMakeFiles/tinympcgen.dir/tinympc/admm.cpp.o\u001b[0m\n",
      "[ 45%] \u001b[32mBuilding CXX object CMakeFiles/tiny_codegen_example.dir/src/tiny_main.cpp.o\u001b[0m\n",
      "[ 54%] \u001b[32mBuilding CXX object CMakeFiles/tiny_codegen_example.dir/src/tiny_data.cpp.o\u001b[0m\n",
      "[ 63%] \u001b[32mBuilding CXX object CMakeFiles/tinympcgen.dir/tinympc/tiny_api.cpp.o\u001b[0m\n",
      "[ 72%] \u001b[32m\u001b[1mLinking CXX executable tiny_codegen_example\u001b[0m\n",
      "[ 72%] Built target tiny_codegen_example\n",
      "[ 81%] \u001b[32mBuilding CXX object CMakeFiles/tinympcgen.dir/bindings.cpp.o\u001b[0m\n",
      "[ 90%] \u001b[32mBuilding CXX object CMakeFiles/tinympcgen.dir/src/tiny_data.cpp.o\u001b[0m\n",
      "[100%] \u001b[32m\u001b[1mLinking CXX shared module /home/factslabegmc/final_wardi_files/src/quad_mpc/quad_mpc/generated_code/build/lib.linux-x86_64-3.8/tinympcgen.cpython-38-x86_64-linux-gnu.so\u001b[0m\n",
      "[100%] Built target tinympcgen\n"
     ]
    }
   ],
   "source": [
    "prob.codegen(\"generated_code\", verbose=1)\n"
   ]
  },
  {
   "cell_type": "code",
   "execution_count": 18,
   "metadata": {},
   "outputs": [
    {
     "name": "stdout",
     "output_type": "stream",
     "text": [
      "[ 7.18601890e+00  9.33580703e-01  1.57120459e+00 -2.94656072e-03]\n"
     ]
    }
   ],
   "source": [
    "import numpy as np\n",
    "import tinympcgen\n",
    "import matplotlib.pyplot as plt\n",
    "\n",
    "tinympcgen.set_x_ref(reffunc[:,-1].flatten()) # Set the goal position \n",
    "tinympcgen.set_x0(x0) # Set first state in horizon\n",
    "solution = tinympcgen.solve()\n",
    "print(solution[\"controls\"])"
   ]
  },
  {
   "cell_type": "code",
   "execution_count": 16,
   "metadata": {},
   "outputs": [
    {
     "data": {
      "text/plain": [
       "array([ 1.,  1., -3.,  0.,  0.,  0.,  0.,  0.,  0.])"
      ]
     },
     "execution_count": 16,
     "metadata": {},
     "output_type": "execute_result"
    }
   ],
   "source": [
    "tinympcgen."
   ]
  },
  {
   "cell_type": "code",
   "execution_count": null,
   "metadata": {},
   "outputs": [],
   "source": []
  }
 ],
 "metadata": {
  "kernelspec": {
   "display_name": "wardiNN",
   "language": "python",
   "name": "python3"
  },
  "language_info": {
   "codemirror_mode": {
    "name": "ipython",
    "version": 3
   },
   "file_extension": ".py",
   "mimetype": "text/x-python",
   "name": "python",
   "nbconvert_exporter": "python",
   "pygments_lexer": "ipython3",
   "version": "3.8.10"
  }
 },
 "nbformat": 4,
 "nbformat_minor": 2
}
