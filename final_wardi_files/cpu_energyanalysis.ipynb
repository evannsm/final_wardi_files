{
 "cells": [
  {
   "cell_type": "code",
   "execution_count": 142,
   "metadata": {},
   "outputs": [],
   "source": [
    "import pandas as pd\n",
    "import numpy as np"
   ]
  },
  {
   "cell_type": "code",
   "execution_count": 161,
   "metadata": {},
   "outputs": [],
   "source": [
    "energy_log_dict = {'1' : 'nr.log',\n",
    "                   '2' : 'mpc.log'}"
   ]
  },
  {
   "cell_type": "code",
   "execution_count": 181,
   "metadata": {},
   "outputs": [
    {
     "name": "stdout",
     "output_type": "stream",
     "text": [
      "Energy Expenditure for nr: 37117.91859122402 uJ  +- 12323.285173593142\n",
      "Energy Expenditure for mpc: 47618.840324763194 uJ  +- 26266.74322342422\n"
     ]
    }
   ],
   "source": [
    "for i in range(1,3):\n",
    "    file_path = energy_log_dict[str(i)]\n",
    "    df = pd.read_csv(file_path, delimiter=';', names=['timestamp', 'tag', 'duration', 'package_0', 'core_0'])# Read the data, assuming it's a semi-colon delimited file\n",
    "\n",
    "    energy = df['package_0'].to_numpy()[1:].astype(float) # Extract the energy data and convert it to a numpy array\n",
    "    energy = energy[np.where(energy != 0.0)[0]]\n",
    "    print(f\"Energy Expenditure for {file_path[:-4]}: {energy.mean()} uJ  +- {energy.std()}\") # Print the mean and standard deviation of the energy data\n"
   ]
  },
  {
   "cell_type": "code",
   "execution_count": 172,
   "metadata": {},
   "outputs": [
    {
     "name": "stdout",
     "output_type": "stream",
     "text": [
      "begin timestamp : 1729801102.2307801; tag : foo; duration : 0.0005147457122802734; package_0 : 80078.0; core_0 : 43152.0; uncore_0 : 2686.0\n"
     ]
    }
   ],
   "source": [
    "from pyJoules.energy_meter import measure_energy\n",
    "@measure_energy\n",
    "def foo():\n",
    "\tx = 0\n",
    "\tfor i in range(10000):\n",
    "\t\tx *= i\n",
    "\n",
    "foo()"
   ]
  },
  {
   "cell_type": "code",
   "execution_count": null,
   "metadata": {},
   "outputs": [],
   "source": []
  }
 ],
 "metadata": {
  "kernelspec": {
   "display_name": "wardiNN",
   "language": "python",
   "name": "python3"
  },
  "language_info": {
   "codemirror_mode": {
    "name": "ipython",
    "version": 3
   },
   "file_extension": ".py",
   "mimetype": "text/x-python",
   "name": "python",
   "nbconvert_exporter": "python",
   "pygments_lexer": "ipython3",
   "version": "3.8.10"
  }
 },
 "nbformat": 4,
 "nbformat_minor": 2
}
